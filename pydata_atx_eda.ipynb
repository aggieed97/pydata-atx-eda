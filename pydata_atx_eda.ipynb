{
 "cells": [
  {
   "cell_type": "markdown",
   "metadata": {},
   "source": [
    "## Table of Contents\n",
    "* [1. Introduction to Exploratory Data Analysis with Python](#1.-Introduction-to-Exploratory-Data-Analysis-with-Python)\n",
    "\t* [1.1 Speaker, Present](#1.1-Speaker,-Present)\n",
    "\t* [1.2 Speaker, Past](#1.2-Speaker,-Past)\n",
    "\t* [1.3 Audience (You)](#1.3-Audience-%28You%29)\n",
    "* [2. Topics of the Talk](#2.-Topics-of-the-Talk)\n",
    "\t* [2.1 Python Tools for Data](#2.1-Python-Tools-for-Data)\n",
    "\t* [2.2 Exploring Data](#2.2-Exploring-Data)\n",
    "\t* [2.3 Modeling Data](#2.3-Modeling-Data)\n",
    "\t* [2.4 Recommended Reading/Viewing](#2.4-Recommended-Reading/Viewing)\n",
    "* [3. Organizing Code](#3.-Organizing-Code)\n",
    "\t* [3.1 Reusable Code, Reproducible Results](#3.1-Reusable-Code,-Reproducible-Results)\n",
    "\t* [3.2 Imports: Standard Library](#3.2-Imports:-Standard-Library)\n",
    "\t* [3.3 Imports: PyData Ecosystem](#3.3-Imports:-PyData-Ecosystem)\n",
    "\t* [3.4 Migrating from Python2 to Python3](#3.4-Migrating-from-Python2-to-Python3)\n",
    "\t* [3.5 Example: Using Functions to Simulate Data](#3.5-Example:-Using-Functions-to-Simulate-Data)\n",
    "\t* [3.6 Writing Functions, No More Giant Scripts](#3.6-Writing-Functions,-No-More-Giant-Scripts)\n",
    "\t* [3.7 Writing Functions, Simplify Interfaces](#3.7-Writing-Functions,-Simplify-Interfaces)\n",
    "\t* [3.8 Writing Functions, Better Docstrings](#3.8-Writing-Functions,-Better-Docstrings)\n",
    "\t* [3.9 Using Your Functions](#3.9-Using-Your-Functions)\n",
    "* [4. Organizing Data:](#4.-Organizing-Data:)\n",
    "\t* [4.1 Lists](#4.1-Lists)\n",
    "\t* [4.2 Numpy Arrays](#4.2-Numpy-Arrays)\n",
    "\t* [4.3 Dictionaries as \"Records\"](#4.3-Dictionaries-as-\"Records\")\n",
    "\t* [4.4 \"Records and Tables\"](#4.4-\"Records-and-Tables\")\n",
    "\t* [4.5 DataFrames as \"Tables\"](#4.5-DataFrames-as-\"Tables\")\n",
    "\t* [4.6 Classes as Data Containers](#4.6-Classes-as-Data-Containers)\n",
    "* [5. Data Visualization](#5.-Data-Visualization)\n",
    "\t* [5.1 Line and Scatter Plots](#5.1-Line-and-Scatter-Plots)\n",
    "\t* [5.2 Figures with Multiple Axes](#5.2-Figures-with-Multiple-Axes)\n",
    "\t* [5.3 Publication Figures](#5.3-Publication-Figures)\n",
    "* [6. The Shape of The Data](#6.-The-Shape-of-The-Data)\n",
    "\t* [6.1 Histograms](#6.1-Histograms)\n",
    "\t* [6.2 CDFs](#6.2-CDFs)\n",
    "\t* [6.3 Center of the Distribution](#6.3-Center-of-the-Distribution)\n",
    "\t* [6.4 Spread of the Distribution](#6.4-Spread-of-the-Distribution)\n",
    "\t* [6.5 Spread, Inter-Quartile Range (IQR)](#6.5-Spread,-Inter-Quartile-Range-%28IQR%29)\n",
    "\t* [6.6 Spread, Standard Devaition](#6.6-Spread,-Standard-Devaition)\n",
    "* [7. Summarizing the Distribution](#7.-Summarizing-the-Distribution)\n",
    "\t* [7.1 Box-and-Whisker Plots](#7.1-Box-and-Whisker-Plots)\n",
    "\t* [7.2 Kernel Density Estimation](#7.2-Kernel-Density-Estimation)\n",
    "\t* [7.3 Violin Plots (combined: boxplot + kde)](#7.3-Violin-Plots-%28combined:-boxplot-+-kde%29)\n",
    "* [8. Modeling Data](#8.-Modeling-Data)\n",
    "\t* [8.1 Transition from Descriptive to Inferential](#8.1-Transition-from-Descriptive-to-Inferential)\n",
    "\t* [8.2 Modeling the Distribution (single variable)](#8.2-Modeling-the-Distribution-%28single-variable%29)\n",
    "\t* [8.3 Example: Find the best parameters (mu, sigma) to use in a parametric model](#8.3-Example:-Find-the-best-parameters-%28mu,-sigma%29-to-use-in-a-parametric-model)\n",
    "* [9. Models and Parameter Estimation](#9.-Models-and-Parameter-Estimation)\n",
    "\t* [9.1 Method of Moments](#9.1-Method-of-Moments)\n",
    "\t* [9.2 Method of Maximum Likelihood](#9.2-Method-of-Maximum-Likelihood)\n",
    "* [10. Parameter Variation and \"Uncertainty of the Estimate\"](#10.-Parameter-Variation-and-\"Uncertainty-of-the-Estimate\")\n",
    "\t* [10.1 Sampling](#10.1-Sampling)\n",
    "\t* [10.2 Resampling](#10.2-Resampling)\n",
    "\t* [10.3 Sample Distribution](#10.3-Sample-Distribution)\n",
    "\t* [10.4 Sampling Variance](#10.4-Sampling-Variance)\n",
    "\t* [10.5 Resampling from the Population](#10.5-Resampling-from-the-Population)\n",
    "\t* [10.6 Spread of the Estimate](#10.6-Spread-of-the-Estimate)\n",
    "* [11. Modeling 2-variable Data](#11.-Modeling-2-variable-Data)\n",
    "\t* [11.1 Tune the parameter values to make the model fit the data...](#11.1-Tune-the-parameter-values-to-make-the-model-fit-the-data...)\n",
    "\t* [11.2 Linear Regression as Optimization](#11.2-Linear-Regression-as-Optimization)\n",
    "\t* [11.3 Linear Regression, Analytic Solution](#11.3-Linear-Regression,-Analytic-Solution)\n",
    "\t* [11.4 Resampling to Visualize Uncertainty in Parameter Estimates](#11.4-Resampling-to-Visualize-Uncertainty-in-Parameter-Estimates)\n",
    "* [12. Linear  Regression in Practice](#12.-Linear--Regression-in-Practice)\n",
    "\t* [12.1 Linear Regression with scipy.optimize](#12.1-Linear-Regression-with-scipy.optimize)\n",
    "\t* [12.2 Linear Regression with statsmodels](#12.2-Linear-Regression-with-statsmodels)\n",
    "\t* [12.3 Linear Regression with statsmodels and pandas](#12.3-Linear-Regression-with-statsmodels-and-pandas)\n",
    "\t* [12.4 Linear Regression with scikit-learn](#12.4-Linear-Regression-with-scikit-learn)\n",
    "* [13. The End](#13.-The-End)\n"
   ]
  },
  {
   "cell_type": "markdown",
   "metadata": {},
   "source": [
    "# 1. Introduction to Exploratory Data Analysis with Python"
   ]
  },
  {
   "cell_type": "markdown",
   "metadata": {},
   "source": [
    "* Time: 2018-March-27, 7-8pm (ish)\n",
    "* Space: HomeAway\n",
    "* City: Austin TX\n",
    "* Speaker: Jason Vestuto"
   ]
  },
  {
   "cell_type": "markdown",
   "metadata": {},
   "source": [
    "## 1.1 Speaker, Present"
   ]
  },
  {
   "cell_type": "markdown",
   "metadata": {},
   "source": [
    "* Space and Geophysics Lab, University of Texas at Austin.\n",
    "    * data: RINEX, HFD5, legacy binary, legacy ASCII, time series, raw rx outputs\n",
    "    * times: atomic clocks, RF signals/hardware/dsp, ionospheric/troposhperic delays\n",
    "    * positions: orbits, tectonic plate motion, survey positions, WGS84 reference frame\n",
    "    * informal: lead dev for analysis group, git help desk, configuration management guy"
   ]
  },
  {
   "cell_type": "markdown",
   "metadata": {},
   "source": [
    "* Community\n",
    "    * not as much as I'd lile, but trying (let me know how the talk goes)\n",
    "    * have dabbled with open-source projects (matplotlib, numpy, conda)\n",
    "    * attend SciPy Conference (2014, 2015, 2017, 2018)\n",
    "    * [reusable-python](https://github.com/vestuto/reusable-python): some notes I wrote on organizing python code into packages, using conda\n",
    "    * [GPSTk](https://github.com/SGL-UT/GPSTk): Python SWIG wrapped C++ library of GPS/GNSS data tools. Not my project, but part of the job."
   ]
  },
  {
   "cell_type": "markdown",
   "metadata": {},
   "source": [
    "## 1.2 Speaker, Past"
   ]
  },
  {
   "cell_type": "markdown",
   "metadata": {},
   "source": [
    "Plan? What plan...\n",
    "* coding & stats: no formal education, learned at work, from others open projects\n",
    "* edu: Public schools/libraries, BS Phsyics, MS Physics, MEd Science Edu\n",
    "* jobs: ARLUT, Anaconda/Continuum, community college teacher, high school teacher, math editor, guitar tech."
   ]
  },
  {
   "cell_type": "markdown",
   "metadata": {},
   "source": [
    "Tools, sorted autobiographically...\n",
    "* Apple IIE, Basic, FORTRAN77, Excel, Mathematica\n",
    "* Bash/GNU, Perl, C, Emacs, IDL, SuperMongo, gnu-plot, CVS\n",
    "* MATLAB, Octave, SVN, FORTRAN98, C++, Perforce\n",
    "* python, git, GitLab, conda, jupyter, PyCharm\n",
    "* O'Reilly Books, Stack-Overflow\n",
    "* GitHub, Slack, Mattermost"
   ]
  },
  {
   "cell_type": "markdown",
   "metadata": {},
   "source": [
    "## 1.3 Audience (You)"
   ]
  },
  {
   "cell_type": "markdown",
   "metadata": {},
   "source": [
    "Assumptions\n",
    "* already installed \"pydata stack\" (e.g. [Anaconda Distribution](https://docs.anaconda.com/anaconda/install/))\n",
    "* some experience with coding\n",
    "* some experience with descriptive statistics\n",
    "* ideally some exposure to `python`, `jupyter notebook`, `numpy`\n",
    "\n",
    "Reality?"
   ]
  },
  {
   "cell_type": "markdown",
   "metadata": {},
   "source": [
    "# 2. Topics of the Talk"
   ]
  },
  {
   "cell_type": "markdown",
   "metadata": {},
   "source": [
    "What is EDA? Ask Wikipedia...\n",
    "\n",
    "> \"In statistics, exploratory data analysis (EDA) is an approach to analyzing data sets to summarize their main characteristics, often with visual methods. A statistical model can be used or not, but primarily EDA is for seeing what the data can tell us beyond the formal modeling or hypothesis testing task. Exploratory data analysis was promoted by John Tukey to encourage statisticians to explore the data, and possibly formulate hypotheses that could lead to new data collection and experiments. \" - [EDA entry in Wikipedia](https://en.wikipedia.org/wiki/Exploratory_data_analysis) \n",
    "\n",
    "\n",
    "Better still, ask John Tukey...\n",
    "\n",
    "\n",
    "> \" [P]rocedures for analyzing data, techniques for interpreting the results of such procedures, ways of planning the gathering of data to make its analysis easier, more precise or more accurate, and all the machinery and results of (mathematical) statistics which apply to analyzing data.\" - John Tukey \n",
    "\n",
    "Who the heck is John Tukey?\n",
    "* Bell Labs\n",
    "* Cooley–Tukey FFT algorithm\n",
    "* worked a bit with John von Neumann\n",
    "* coined the word \"bit\"\n",
    "* boxplots\n",
    "\n",
    "So we should look at at least the following stuff:\n",
    "* data gathering, storing, organizing\n",
    "* data visualization\n",
    "* descriptive statistics\n",
    "* inferential statistics\n",
    "* statistical modeling"
   ]
  },
  {
   "cell_type": "markdown",
   "metadata": {},
   "source": [
    "## 2.1 Python Tools for Data"
   ]
  },
  {
   "cell_type": "markdown",
   "metadata": {},
   "source": [
    "* [Python](https://www.python.org/psf/) - the language\n",
    "* [conda](https://conda.io/docs/user-guide/install/download.html) - configuration management\n",
    "* [Jupyter](http://jupyter.org) - interactive shell, notebooks, IDE\n",
    "* [Numpy](http://www.numpy.org) - arrays, fast array computing, fast math\n",
    "* [Pandas](http://pandas.pydata.org) - DataFrames, data analysis, database-liek operations\n",
    "* [Scipy](https://www.scipy.org/getting-started.html) - scientific computing\n",
    "* [Matplotlib](https://matplotlib.org) - data visualization, general purpose\n",
    "* [Seaborn](https://seaborn.pydata.org) - data visualization for statistics\n",
    "* [Statsmodels](http://www.statsmodels.org/stable/index.html) - statistics\n",
    "* [Scikit-Learn](http://scikit-learn.org/stable/) - machine learning, modeling"
   ]
  },
  {
   "cell_type": "markdown",
   "metadata": {},
   "source": [
    "## 2.2 Exploring Data"
   ]
  },
  {
   "cell_type": "markdown",
   "metadata": {},
   "source": [
    "* Data Visualization\n",
    "* Descriptive statistics\n",
    "* Characterizing the Data Distribution\n",
    "* Parametric Modeling of Data, single variable"
   ]
  },
  {
   "cell_type": "markdown",
   "metadata": {},
   "source": [
    "## 2.3 Modeling Data"
   ]
  },
  {
   "cell_type": "markdown",
   "metadata": {},
   "source": [
    "* Inferential statistics\n",
    "* A little computational stats\n",
    "* Parameter Estimation\n",
    "* Sampling, Bootstrap Resampling\n",
    "* Estimation Uncertainty\n",
    "* Modeling Data, two variables\n",
    "* Linear regression"
   ]
  },
  {
   "cell_type": "markdown",
   "metadata": {},
   "source": [
    "## 2.4 Recommended Reading/Viewing"
   ]
  },
  {
   "cell_type": "markdown",
   "metadata": {},
   "source": [
    "* Books/Notebooks:\n",
    "    * [Vanderplas, Whirlwind Tour of Python](https://jakevdp.github.io/WhirlwindTourOfPython/)\n",
    "    * [Vanderplas, Python Datascience Handbook](https://jakevdp.github.io/PythonDataScienceHandbook/)\n",
    "    * [Scipy Lecture Notes](https://www.scipy-lectures.org)\n",
    "    * [Downey, Think Python](http://greenteapress.com/wp/think-python-2e/)\n",
    "    * [Downey, Think Stats](http://greenteapress.com/wp/think-stats-2e/)\n",
    "    * [Boslaugh, Statistics in a Nutshell](http://shop.oreilly.com/product/0636920023074.do)\n",
    "    * [Fonnesbeck, Statistical Analysis](https://github.com/fonnesbeck/statistical-analysis-python-tutorial)\n",
    "\n",
    "\n",
    "* Talks/Tutorials:\n",
    "    * [JupyterCon2017, Granger, Jupyter Lab](https://www.youtube.com/watch?v=w7jq4XgwLJQ)\n",
    "    * [SciPy2017, Niederhut, Numpy](https://www.youtube.com/watch?v=lKcwuPnSHIQ)\n",
    "    * [SciPy2017, Root, Matplotlib](https://www.youtube.com/watch?v=rARMKS8jE9g)\n",
    "    * [PyCon2016, Vanderplas, Statistics for Hackers](https://www.youtube.com/watch?v=Iq9DzN6mvYA)\n",
    "    * [SciPy2017, Fonnesbeck, Statistical Thinking](https://www.youtube.com/watch?v=TGGGDpb04Yc)\n",
    "    * [SciPy2015, Downey, Computational Stats](https://www.youtube.com/watch?v=fMycLa1bsno)\n",
    "    * [SciPy2013, Fonnesbeck, Statistical Data Analysis](https://www.youtube.com/watch?v=5_rcdhBXD-0)"
   ]
  },
  {
   "cell_type": "markdown",
   "metadata": {},
   "source": [
    "# 3. Organizing Code"
   ]
  },
  {
   "cell_type": "markdown",
   "metadata": {},
   "source": [
    "## 3.1 Reusable Code, Reproducible Results"
   ]
  },
  {
   "cell_type": "markdown",
   "metadata": {},
   "source": [
    "[The Six Stages of Computational Science](https://opendatascience.com/blog/the-six-stages-of-computational-science/) - Please read this!"
   ]
  },
  {
   "cell_type": "markdown",
   "metadata": {},
   "source": [
    "## 3.2 Imports: Standard Library"
   ]
  },
  {
   "cell_type": "markdown",
   "metadata": {},
   "source": [
    "Importing ..."
   ]
  },
  {
   "cell_type": "code",
   "execution_count": 1,
   "metadata": {},
   "outputs": [
    {
     "data": {
      "text/plain": [
       "['pydata_atx_eda_vestuto_20180327.ipynb',\n",
       " '.DS_Store',\n",
       " '.ipynb_checkpoints',\n",
       " 'pydata.png']"
      ]
     },
     "execution_count": 1,
     "metadata": {},
     "output_type": "execute_result"
    }
   ],
   "source": [
    "import os\n",
    "os.listdir()"
   ]
  },
  {
   "cell_type": "code",
   "execution_count": 2,
   "metadata": {},
   "outputs": [
    {
     "data": {
      "text/plain": [
       "datetime.datetime(2018, 3, 27, 18, 21, 13, 818684)"
      ]
     },
     "execution_count": 2,
     "metadata": {},
     "output_type": "execute_result"
    }
   ],
   "source": [
    "import datetime as dt\n",
    "dt.datetime.now()"
   ]
  },
  {
   "cell_type": "code",
   "execution_count": 3,
   "metadata": {},
   "outputs": [
    {
     "data": {
      "text/plain": [
       "3.141592653589793"
      ]
     },
     "execution_count": 3,
     "metadata": {},
     "output_type": "execute_result"
    }
   ],
   "source": [
    "import math\n",
    "math.pi"
   ]
  },
  {
   "cell_type": "markdown",
   "metadata": {},
   "source": [
    "## 3.3 Imports: PyData Ecosystem"
   ]
  },
  {
   "cell_type": "markdown",
   "metadata": {},
   "source": [
    "Extending the python standard library..."
   ]
  },
  {
   "cell_type": "code",
   "execution_count": 4,
   "metadata": {},
   "outputs": [
    {
     "data": {
      "text/plain": [
       "3.141592653589793"
      ]
     },
     "execution_count": 4,
     "metadata": {},
     "output_type": "execute_result"
    }
   ],
   "source": [
    "import numpy as np\n",
    "np.pi"
   ]
  },
  {
   "cell_type": "code",
   "execution_count": 5,
   "metadata": {
    "collapsed": true
   },
   "outputs": [],
   "source": [
    "import numpy\n",
    "import pandas\n",
    "import matplotlib\n",
    "import seaborn\n",
    "import scipy\n",
    "import statsmodels\n",
    "import sklearn"
   ]
  },
  {
   "cell_type": "markdown",
   "metadata": {},
   "source": [
    "Most common aliases used by others ..."
   ]
  },
  {
   "cell_type": "code",
   "execution_count": 6,
   "metadata": {
    "collapsed": true
   },
   "outputs": [],
   "source": [
    "import datetime as dt\n",
    "import numpy as np\n",
    "from matplotlib import pyplot as plt\n",
    "from matplotlib import ticker\n",
    "from scipy import optimize\n",
    "import pandas as pd\n",
    "import seaborn as sns"
   ]
  },
  {
   "cell_type": "markdown",
   "metadata": {},
   "source": [
    "## 3.4 Migrating from Python2 to Python3"
   ]
  },
  {
   "cell_type": "markdown",
   "metadata": {},
   "source": [
    "Make your code work in both py2 and py3..."
   ]
  },
  {
   "cell_type": "code",
   "execution_count": 7,
   "metadata": {
    "collapsed": true
   },
   "outputs": [],
   "source": [
    "from __future__ import division, print_function"
   ]
  },
  {
   "cell_type": "markdown",
   "metadata": {},
   "source": [
    "## 3.5 Example: Using Functions to Simulate Data"
   ]
  },
  {
   "cell_type": "markdown",
   "metadata": {},
   "source": [
    "* there are other tutorials on data loading, data cleaning\n",
    "* simulating data gives you some useful examples of `numpy.random` and `numpy.ndarray`"
   ]
  },
  {
   "cell_type": "code",
   "execution_count": 8,
   "metadata": {
    "collapsed": true
   },
   "outputs": [],
   "source": [
    "np.random.seed(seed=42)\n",
    "\n",
    "center = 0\n",
    "spread = 1\n",
    "npts   = 20\n",
    "\n",
    "data   = np.random.normal(center, spread, npts)"
   ]
  },
  {
   "cell_type": "code",
   "execution_count": 9,
   "metadata": {},
   "outputs": [
    {
     "data": {
      "text/plain": [
       "array([ 0.49671415, -0.1382643 ,  0.64768854,  1.52302986, -0.23415337,\n",
       "       -0.23413696,  1.57921282,  0.76743473, -0.46947439,  0.54256004])"
      ]
     },
     "execution_count": 9,
     "metadata": {},
     "output_type": "execute_result"
    }
   ],
   "source": [
    "data[0:10]"
   ]
  },
  {
   "cell_type": "markdown",
   "metadata": {},
   "source": [
    "## 3.6 Writing Functions, No More Giant Scripts"
   ]
  },
  {
   "cell_type": "markdown",
   "metadata": {},
   "source": [
    "* if all your code is nothing but giant scripts, all your coworkers hate you\n",
    "* if they don't say it, they think it while drinking at night\n",
    "* step 1: admit you ahve a problem\n",
    "* step 2: define a function"
   ]
  },
  {
   "cell_type": "code",
   "execution_count": 10,
   "metadata": {
    "collapsed": true
   },
   "outputs": [],
   "source": [
    "def load_data_norm(npts=100, mu=0, sigma=1):\n",
    "    z = np.random.normal(mu, sigma, npts)\n",
    "    return z"
   ]
  },
  {
   "cell_type": "code",
   "execution_count": 11,
   "metadata": {},
   "outputs": [
    {
     "data": {
      "text/plain": [
       "array([ 1.46564877, -0.2257763 ,  0.0675282 , -1.42474819, -0.54438272,\n",
       "        0.11092259, -1.15099358,  0.37569802, -0.60063869, -0.29169375])"
      ]
     },
     "execution_count": 11,
     "metadata": {},
     "output_type": "execute_result"
    }
   ],
   "source": [
    "z = load_data_norm(10)\n",
    "z"
   ]
  },
  {
   "cell_type": "markdown",
   "metadata": {},
   "source": [
    "## 3.7 Writing Functions, Simplify Interfaces"
   ]
  },
  {
   "cell_type": "markdown",
   "metadata": {},
   "source": [
    "* seriously, use functions\n",
    "* customized interfaces are awesome"
   ]
  },
  {
   "cell_type": "code",
   "execution_count": 12,
   "metadata": {
    "collapsed": true
   },
   "outputs": [],
   "source": [
    "def load_data_line(npts=101):\n",
    "    x = np.linspace(0, 10, npts)\n",
    "    noise = np.random.normal(0, 1, npts)\n",
    "    y = x + 0.5*noise\n",
    "    return x, y"
   ]
  },
  {
   "cell_type": "code",
   "execution_count": 13,
   "metadata": {},
   "outputs": [
    {
     "name": "stdout",
     "output_type": "stream",
     "text": [
      "[  0.    2.5   5.    7.5  10. ]\n",
      "[ -0.30085331   3.42613909   4.99325139   6.97114454  10.41127246]\n"
     ]
    }
   ],
   "source": [
    "x, y = load_data_line(5)\n",
    "print(x)\n",
    "print(y)"
   ]
  },
  {
   "cell_type": "markdown",
   "metadata": {},
   "source": [
    "## 3.8 Writing Functions, Better Docstrings"
   ]
  },
  {
   "cell_type": "markdown",
   "metadata": {},
   "source": [
    "* good: Don't ignore the linter in your IDE\n",
    "* better: consciously pick a style guide, document it\n",
    "* great: use pylint tests, hook them into your CI, auto-run every time you `git push`\n",
    "* awesome: have an opinion about PEP8, custom edit your .pylintrc\n",
    "* loved by all: write good docstrings FFS"
   ]
  },
  {
   "cell_type": "code",
   "execution_count": 14,
   "metadata": {
    "collapsed": true
   },
   "outputs": [],
   "source": [
    "def load_data_line(npts=101, a0=0, a1=1, ae=0.5):\n",
    "    \"\"\"\n",
    "    Purpose: Generates (x,y) data with some random noise\n",
    "        x is np.linspace(0, 10, npts)\n",
    "        y is a1*x + a0 + ae*noise\n",
    "        noise is np.random.normal(mu, sigma,npts)\n",
    "    Usage:\n",
    "        x, y = load_data_line()\n",
    "        lines = plt.plot(x, y)\n",
    "    Args:\n",
    "        npts (int): Number of points in the data set returned\n",
    "        a0 (float): y-intercept\n",
    "        a1 (float): slope dy/dx \n",
    "    Returns:\n",
    "        x (np.ndarray): an array of npts evenly spaced from 0 to 10\n",
    "        y (np.ndarray): computed as a0 + (a1*x) + noise\n",
    "    \"\"\"\n",
    "    xmin  = 0\n",
    "    xmax  = 10\n",
    "    mu    = 0\n",
    "    sigma = 1\n",
    "    x = np.linspace(xmin, xmax, npts)\n",
    "    e = np.random.normal(mu, sigma, npts)\n",
    "    y = a0 + (a1*x) + ae*e\n",
    "    return x, y"
   ]
  },
  {
   "cell_type": "markdown",
   "metadata": {},
   "source": [
    "## 3.9 Using Your Functions"
   ]
  },
  {
   "cell_type": "code",
   "execution_count": 15,
   "metadata": {},
   "outputs": [
    {
     "name": "stdout",
     "output_type": "stream",
     "text": [
      "[  0.    2.5   5.    7.5  10. ]\n",
      "[ -0.61042182   2.6044318    4.02016494   6.83590698  10.09843062]\n"
     ]
    }
   ],
   "source": [
    "x, y = load_data_line(npts=5)\n",
    "\n",
    "print(x)\n",
    "print(y)"
   ]
  },
  {
   "cell_type": "code",
   "execution_count": 16,
   "metadata": {
    "collapsed": true
   },
   "outputs": [],
   "source": [
    "# load_data_line?"
   ]
  },
  {
   "cell_type": "code",
   "execution_count": 17,
   "metadata": {},
   "outputs": [
    {
     "data": {
      "image/png": "[encoded data removed]",
      "text/plain": [
       "<matplotlib.figure.Figure at 0x114daf978>"
      ]
     },
     "metadata": {},
     "output_type": "display_data"
    }
   ],
   "source": [
    "x, y = load_data_line()\n",
    "lines = plt.plot(x, y)\n",
    "plt.show()"
   ]
  },
  {
   "cell_type": "markdown",
   "metadata": {},
   "source": [
    "# 4. Organizing Data:"
   ]
  },
  {
   "cell_type": "markdown",
   "metadata": {},
   "source": [
    "We need some structures ot hold and organize our data in memory\n",
    "\n",
    "Commonly used...\n",
    "* collections: python lists\n",
    "* key-values, records: python dictionaries\n",
    "* arrays of floats: numpy array\n",
    "* tabular data: pandas DataFrames"
   ]
  },
  {
   "cell_type": "markdown",
   "metadata": {},
   "source": [
    "## 4.1 Lists"
   ]
  },
  {
   "cell_type": "markdown",
   "metadata": {},
   "source": [
    "Store some data ..."
   ]
  },
  {
   "cell_type": "code",
   "execution_count": 18,
   "metadata": {},
   "outputs": [
    {
     "data": {
      "text/plain": [
       "['hello', 42, 3.14159]"
      ]
     },
     "execution_count": 18,
     "metadata": {},
     "output_type": "execute_result"
    }
   ],
   "source": [
    "data_list = ['hello', 42, 3.14159]\n",
    "data_list"
   ]
  },
  {
   "cell_type": "code",
   "execution_count": 19,
   "metadata": {},
   "outputs": [
    {
     "data": {
      "text/plain": [
       "[0, 1, 2, 3, 4, 5, 6, 7, 8, 9]"
      ]
     },
     "execution_count": 19,
     "metadata": {},
     "output_type": "execute_result"
    }
   ],
   "source": [
    "data_list = list( range(10) )\n",
    "data_list"
   ]
  },
  {
   "cell_type": "code",
   "execution_count": 20,
   "metadata": {},
   "outputs": [
    {
     "data": {
      "text/plain": [
       "[0, 1, 2, 3, 4, 5, 6, 7, 8, 9]"
      ]
     },
     "execution_count": 20,
     "metadata": {},
     "output_type": "execute_result"
    }
   ],
   "source": [
    "data_list = [1*n for n in range(10)]\n",
    "data_list"
   ]
  },
  {
   "cell_type": "markdown",
   "metadata": {},
   "source": [
    "Retrieve some data ..."
   ]
  },
  {
   "cell_type": "code",
   "execution_count": 21,
   "metadata": {},
   "outputs": [
    {
     "data": {
      "text/plain": [
       "0"
      ]
     },
     "execution_count": 21,
     "metadata": {},
     "output_type": "execute_result"
    }
   ],
   "source": [
    "data_list[0]"
   ]
  },
  {
   "cell_type": "code",
   "execution_count": 22,
   "metadata": {},
   "outputs": [
    {
     "data": {
      "text/plain": [
       "[2, 3]"
      ]
     },
     "execution_count": 22,
     "metadata": {},
     "output_type": "execute_result"
    }
   ],
   "source": [
    "data_list[2:4]"
   ]
  },
  {
   "cell_type": "code",
   "execution_count": 23,
   "metadata": {},
   "outputs": [
    {
     "data": {
      "text/plain": [
       "[0, 1, 2, 3, 4, 5, 6, 7, 8, 9, 0, 1, 2, 3, 4, 5, 6, 7, 8, 9]"
      ]
     },
     "execution_count": 23,
     "metadata": {},
     "output_type": "execute_result"
    }
   ],
   "source": [
    "data_list*2  # concatenation? WTH?"
   ]
  },
  {
   "cell_type": "code",
   "execution_count": 24,
   "metadata": {
    "collapsed": true
   },
   "outputs": [],
   "source": [
    "# data_list + 10  # Cannot do it!"
   ]
  },
  {
   "cell_type": "markdown",
   "metadata": {},
   "source": [
    "## 4.2 Numpy Arrays"
   ]
  },
  {
   "cell_type": "markdown",
   "metadata": {},
   "source": [
    "Store some data in a more powerful container ..."
   ]
  },
  {
   "cell_type": "code",
   "execution_count": 25,
   "metadata": {},
   "outputs": [
    {
     "data": {
      "text/plain": [
       "array([0, 1, 2, 3, 4, 5, 6, 7, 8, 9])"
      ]
     },
     "execution_count": 25,
     "metadata": {},
     "output_type": "execute_result"
    }
   ],
   "source": [
    "data_array = np.array(data_list)\n",
    "data_array"
   ]
  },
  {
   "cell_type": "code",
   "execution_count": 26,
   "metadata": {
    "collapsed": true
   },
   "outputs": [],
   "source": [
    "# data_array?"
   ]
  },
  {
   "cell_type": "code",
   "execution_count": 27,
   "metadata": {},
   "outputs": [
    {
     "data": {
      "text/plain": [
       "numpy.ndarray"
      ]
     },
     "execution_count": 27,
     "metadata": {},
     "output_type": "execute_result"
    }
   ],
   "source": [
    "type(data_array) "
   ]
  },
  {
   "cell_type": "code",
   "execution_count": 28,
   "metadata": {},
   "outputs": [
    {
     "data": {
      "text/plain": [
       "numpy.int64"
      ]
     },
     "execution_count": 28,
     "metadata": {},
     "output_type": "execute_result"
    }
   ],
   "source": [
    "type(data_array[0])"
   ]
  },
  {
   "cell_type": "code",
   "execution_count": 29,
   "metadata": {},
   "outputs": [
    {
     "data": {
      "text/plain": [
       "array([ 0,  2,  4,  6,  8, 10, 12, 14, 16, 18])"
      ]
     },
     "execution_count": 29,
     "metadata": {},
     "output_type": "execute_result"
    }
   ],
   "source": [
    "# (broadcasting) + (vector math)\n",
    "\n",
    "data_array * 2 "
   ]
  },
  {
   "cell_type": "code",
   "execution_count": 30,
   "metadata": {},
   "outputs": [
    {
     "data": {
      "text/plain": [
       "array([10, 11, 12, 13, 14, 15, 16, 17, 18, 19])"
      ]
     },
     "execution_count": 30,
     "metadata": {},
     "output_type": "execute_result"
    }
   ],
   "source": [
    "data_array + 10"
   ]
  },
  {
   "cell_type": "code",
   "execution_count": 31,
   "metadata": {},
   "outputs": [
    {
     "data": {
      "text/plain": [
       "45"
      ]
     },
     "execution_count": 31,
     "metadata": {},
     "output_type": "execute_result"
    }
   ],
   "source": [
    "data_array.sum()"
   ]
  },
  {
   "cell_type": "code",
   "execution_count": 32,
   "metadata": {},
   "outputs": [
    {
     "data": {
      "text/plain": [
       "4.5"
      ]
     },
     "execution_count": 32,
     "metadata": {},
     "output_type": "execute_result"
    }
   ],
   "source": [
    "data_array.mean()"
   ]
  },
  {
   "cell_type": "code",
   "execution_count": 33,
   "metadata": {},
   "outputs": [
    {
     "data": {
      "text/plain": [
       "array([  0.  ,   0.01,   0.02, ...,   9.98,   9.99,  10.  ])"
      ]
     },
     "execution_count": 33,
     "metadata": {},
     "output_type": "execute_result"
    }
   ],
   "source": [
    "array = np.linspace(0, 10, 1001)\n",
    "array"
   ]
  },
  {
   "cell_type": "markdown",
   "metadata": {},
   "source": [
    "## 4.3 Dictionaries as \"Records\""
   ]
  },
  {
   "cell_type": "code",
   "execution_count": 34,
   "metadata": {},
   "outputs": [
    {
     "name": "stdout",
     "output_type": "stream",
     "text": [
      "{'year': 2018, 'doy': 82, 'type': 'temperature', 'value': 73, 'units': 'degF'}\n"
     ]
    }
   ],
   "source": [
    "record = dict( year=2018, doy=82, type='temperature', value=73, units='degF')\n",
    "\n",
    "print(record)"
   ]
  },
  {
   "cell_type": "markdown",
   "metadata": {},
   "source": [
    "## 4.4 \"Records and Tables\""
   ]
  },
  {
   "cell_type": "markdown",
   "metadata": {},
   "source": [
    "* python: lists of dictionaries\n",
    "* pandas: DataFrames"
   ]
  },
  {
   "cell_type": "code",
   "execution_count": 35,
   "metadata": {},
   "outputs": [
    {
     "name": "stdout",
     "output_type": "stream",
     "text": [
      "{'year': 2018, 'doy': 82, 'type': 'temperature', 'value': 73, 'units': 'degF'}\n",
      "{'year': 2018, 'doy': 83, 'type': 'temperature', 'value': 75, 'units': 'degF'}\n",
      "{'year': 2018, 'doy': 84, 'type': 'temperature', 'value': 77, 'units': 'degF'}\n",
      "{'year': 2018, 'doy': 85, 'type': 'temperature', 'value': 79, 'units': 'degF'}\n",
      "{'year': 2018, 'doy': 86, 'type': 'temperature', 'value': 81, 'units': 'degF'}\n"
     ]
    }
   ],
   "source": [
    "table = []\n",
    "\n",
    "for n in [0,1,2,3,4]:\n",
    "    new_record = record.copy()\n",
    "    new_record['doy'] += n\n",
    "    new_record['value'] += 2*n\n",
    "    table.append(new_record)\n",
    "\n",
    "for record in table:\n",
    "    print(record)"
   ]
  },
  {
   "cell_type": "markdown",
   "metadata": {},
   "source": [
    "## 4.5 DataFrames as \"Tables\""
   ]
  },
  {
   "cell_type": "markdown",
   "metadata": {},
   "source": [
    "* \"pandas\" ~ \"panel data\""
   ]
  },
  {
   "cell_type": "code",
   "execution_count": 36,
   "metadata": {},
   "outputs": [
    {
     "data": {
      "text/html": [
       "<div>\n",
       "<style>\n",
       "    .dataframe thead tr:only-child th {\n",
       "        text-align: right;\n",
       "    }\n",
       "\n",
       "    .dataframe thead th {\n",
       "        text-align: left;\n",
       "    }\n",
       "\n",
       "    .dataframe tbody tr th {\n",
       "        vertical-align: top;\n",
       "    }\n",
       "</style>\n",
       "<table border=\"1\" class=\"dataframe\">\n",
       "  <thead>\n",
       "    <tr style=\"text-align: right;\">\n",
       "      <th></th>\n",
       "      <th>doy</th>\n",
       "      <th>type</th>\n",
       "      <th>units</th>\n",
       "      <th>value</th>\n",
       "      <th>year</th>\n",
       "    </tr>\n",
       "  </thead>\n",
       "  <tbody>\n",
       "    <tr>\n",
       "      <th>0</th>\n",
       "      <td>82</td>\n",
       "      <td>temperature</td>\n",
       "      <td>degF</td>\n",
       "      <td>73</td>\n",
       "      <td>2018</td>\n",
       "    </tr>\n",
       "    <tr>\n",
       "      <th>1</th>\n",
       "      <td>83</td>\n",
       "      <td>temperature</td>\n",
       "      <td>degF</td>\n",
       "      <td>75</td>\n",
       "      <td>2018</td>\n",
       "    </tr>\n",
       "    <tr>\n",
       "      <th>2</th>\n",
       "      <td>84</td>\n",
       "      <td>temperature</td>\n",
       "      <td>degF</td>\n",
       "      <td>77</td>\n",
       "      <td>2018</td>\n",
       "    </tr>\n",
       "    <tr>\n",
       "      <th>3</th>\n",
       "      <td>85</td>\n",
       "      <td>temperature</td>\n",
       "      <td>degF</td>\n",
       "      <td>79</td>\n",
       "      <td>2018</td>\n",
       "    </tr>\n",
       "    <tr>\n",
       "      <th>4</th>\n",
       "      <td>86</td>\n",
       "      <td>temperature</td>\n",
       "      <td>degF</td>\n",
       "      <td>81</td>\n",
       "      <td>2018</td>\n",
       "    </tr>\n",
       "  </tbody>\n",
       "</table>\n",
       "</div>"
      ],
      "text/plain": [
       "   doy         type units  value  year\n",
       "0   82  temperature  degF     73  2018\n",
       "1   83  temperature  degF     75  2018\n",
       "2   84  temperature  degF     77  2018\n",
       "3   85  temperature  degF     79  2018\n",
       "4   86  temperature  degF     81  2018"
      ]
     },
     "execution_count": 36,
     "metadata": {},
     "output_type": "execute_result"
    }
   ],
   "source": [
    "data = pd.DataFrame(table)\n",
    "data.head()"
   ]
  },
  {
   "cell_type": "markdown",
   "metadata": {},
   "source": [
    "## 4.6 Classes as Data Containers"
   ]
  },
  {
   "cell_type": "code",
   "execution_count": 37,
   "metadata": {
    "collapsed": true
   },
   "outputs": [],
   "source": [
    "class DataBucket():\n",
    "    def __init__(self, name='unknown', speed=2.5):\n",
    "        self.name      = name\n",
    "        self.speed     = speed\n",
    "        self.creation  = dt.datetime.now()\n",
    "        self.times     = np.linspace(0, 10, 11)\n",
    "        self.distances = self.speed*self.times"
   ]
  },
  {
   "cell_type": "code",
   "execution_count": 38,
   "metadata": {
    "collapsed": true
   },
   "outputs": [],
   "source": [
    "db = DataBucket('parrot')"
   ]
  },
  {
   "cell_type": "code",
   "execution_count": 39,
   "metadata": {},
   "outputs": [
    {
     "data": {
      "text/plain": [
       "2.5"
      ]
     },
     "execution_count": 39,
     "metadata": {},
     "output_type": "execute_result"
    }
   ],
   "source": [
    "db.speed"
   ]
  },
  {
   "cell_type": "code",
   "execution_count": 40,
   "metadata": {},
   "outputs": [
    {
     "data": {
      "text/plain": [
       "datetime.datetime(2018, 3, 27, 18, 21, 17, 322768)"
      ]
     },
     "execution_count": 40,
     "metadata": {},
     "output_type": "execute_result"
    }
   ],
   "source": [
    "db.creation"
   ]
  },
  {
   "cell_type": "code",
   "execution_count": 41,
   "metadata": {},
   "outputs": [
    {
     "data": {
      "text/plain": [
       "array([  0. ,   2.5,   5. ,   7.5,  10. ,  12.5,  15. ,  17.5,  20. ,\n",
       "        22.5,  25. ])"
      ]
     },
     "execution_count": 41,
     "metadata": {},
     "output_type": "execute_result"
    }
   ],
   "source": [
    "db.distances"
   ]
  },
  {
   "cell_type": "markdown",
   "metadata": {},
   "source": [
    "# 5. Data Visualization"
   ]
  },
  {
   "cell_type": "markdown",
   "metadata": {},
   "source": [
    "## 5.1 Line and Scatter Plots"
   ]
  },
  {
   "cell_type": "code",
   "execution_count": 42,
   "metadata": {
    "collapsed": true
   },
   "outputs": [],
   "source": [
    "from matplotlib import pyplot as plt"
   ]
  },
  {
   "cell_type": "code",
   "execution_count": 43,
   "metadata": {
    "collapsed": true
   },
   "outputs": [],
   "source": [
    "%matplotlib inline"
   ]
  },
  {
   "cell_type": "code",
   "execution_count": 44,
   "metadata": {
    "collapsed": true
   },
   "outputs": [],
   "source": [
    "data = load_data_norm(100)"
   ]
  },
  {
   "cell_type": "code",
   "execution_count": 45,
   "metadata": {},
   "outputs": [
    {
     "data": {
      "image/png": "[encoded data removed]",
      "text/plain": [
       "<matplotlib.figure.Figure at 0x114dafeb8>"
      ]
     },
     "metadata": {},
     "output_type": "display_data"
    }
   ],
   "source": [
    "# simplest\n",
    "\n",
    "line = plt.plot(data)"
   ]
  },
  {
   "cell_type": "code",
   "execution_count": 46,
   "metadata": {},
   "outputs": [
    {
     "data": {
      "image/png": "[encoded data removed]",
      "text/plain": [
       "<matplotlib.figure.Figure at 0x11726fdd8>"
      ]
     },
     "metadata": {},
     "output_type": "display_data"
    }
   ],
   "source": [
    "# a little customization\n",
    "\n",
    "line = plt.plot(data, color='green', marker='o')"
   ]
  },
  {
   "cell_type": "code",
   "execution_count": 47,
   "metadata": {},
   "outputs": [
    {
     "data": {
      "image/png": "[encoded data removed]",
      "text/plain": [
       "<matplotlib.figure.Figure at 0x117381048>"
      ]
     },
     "metadata": {},
     "output_type": "display_data"
    }
   ],
   "source": [
    "# more general\n",
    "\n",
    "fig, ax = plt.subplots()\n",
    "\n",
    "options = dict(linestyle=\" \", marker=\"o\", markersize=4, color=\"black\")\n",
    "\n",
    "lines   = ax.plot(data, **options)"
   ]
  },
  {
   "cell_type": "markdown",
   "metadata": {},
   "source": [
    "## 5.2 Figures with Multiple Axes"
   ]
  },
  {
   "cell_type": "code",
   "execution_count": 48,
   "metadata": {},
   "outputs": [
    {
     "data": {
      "image/png": "[encoded data removed]",
      "text/plain": [
       "<matplotlib.figure.Figure at 0x1173813c8>"
      ]
     },
     "metadata": {},
     "output_type": "display_data"
    }
   ],
   "source": [
    "x, y = load_data_line()\n",
    "\n",
    "fig_options = dict(nrows=1, ncols=3, figsize=(12,4))\n",
    "fig, axes = plt.subplots(**fig_options)\n",
    "\n",
    "# pre-define line options, e.g. color, line style, marker symbol, etc\n",
    "line_options = ['slot0', 'slot1', 'slot2']\n",
    "line_options[0] = dict(linestyle=\"-\",  marker=\" \", color=\"red\")\n",
    "line_options[1] = dict(linestyle=\"--\", marker=\"s\", color=\"green\")\n",
    "line_options[2] = dict(linestyle=\" \",  marker=\"o\", color=\"blue\")\n",
    "\n",
    "# plot lines on 3 separate axes\n",
    "line0 = axes[0].plot(x,   y, **line_options[0])\n",
    "line1 = axes[1].plot(x, 2*y, **line_options[1])\n",
    "line5 = axes[2].plot(x, 4*y, **line_options[2])\n",
    "\n",
    "# apply the same change to all axes\n",
    "for axis in fig.axes:\n",
    "    axis.grid(True, which='major')\n",
    "\n",
    "# so that tick labels don't overlap\n",
    "fig.tight_layout()"
   ]
  },
  {
   "cell_type": "markdown",
   "metadata": {},
   "source": [
    "## 5.3 Publication Figures"
   ]
  },
  {
   "cell_type": "code",
   "execution_count": 49,
   "metadata": {
    "collapsed": true
   },
   "outputs": [],
   "source": [
    "def plot_data_fancy(x, y):\n",
    "    \"\"\"\n",
    "    Purpose: Make a pretty plot of some line data (x, y)\n",
    "    Args:\n",
    "        x (np.ndarray): array of distance values, units=meters\n",
    "        y (np.ndarray): array of time values, units=seconds\n",
    "    Returns:\n",
    "        fig (plt.figure): matplotlib figure object\n",
    "    Raise:\n",
    "        None\n",
    "    \"\"\"\n",
    "    fig, axis = plt.subplots()\n",
    "    data_opts     = dict(linestyle=\" \", marker=\"o\", label=\"My Data\")\n",
    "    model_opts    = dict(linestyle=\"-\", linewidth=8, alpha=0.5, label=\"My Model\")\n",
    "    threhold_opts = dict(linestyle=\"-\", linewidth=10, alpha=0.3, label=\"Threshold\")\n",
    "    axis.plot(x, y, color=\"black\", **data_opts)\n",
    "    axis.plot(x, x, color=\"red\",   **model_opts)\n",
    "    axis.axvline(5, color=\"green\", **threhold_opts)\n",
    "    axis.axvline(0, color=\"black\")\n",
    "    axis.axhline(0, color=\"black\")\n",
    "    axis.grid(True, which=\"both\")\n",
    "    axis.set_ylim([-2.5, 12.5])\n",
    "    axis.set_xlim([-2.5, 12.5])\n",
    "    axis.xaxis.set_major_locator(ticker.MultipleLocator(2.5))\n",
    "    axis.xaxis.set_minor_locator(ticker.MultipleLocator(0.5))\n",
    "    axis.yaxis.set_major_locator(ticker.MultipleLocator(5.0))\n",
    "    axis.yaxis.set_minor_locator(ticker.MultipleLocator(1.0))\n",
    "    axis.set_ylabel('Distance (meters)')\n",
    "    axis.set_xlabel('Time (seconds)')\n",
    "    axis.set_title('Fig. 1.2: Tweek All The Things')\n",
    "    axis.legend()\n",
    "    return fig"
   ]
  },
  {
   "cell_type": "code",
   "execution_count": 50,
   "metadata": {
    "collapsed": true
   },
   "outputs": [],
   "source": [
    "plot_data_fancy?"
   ]
  },
  {
   "cell_type": "code",
   "execution_count": 51,
   "metadata": {},
   "outputs": [
    {
     "data": {
      "image/png": "[encoded data removed]",
      "text/plain": [
       "<matplotlib.figure.Figure at 0x11738d6d8>"
      ]
     },
     "metadata": {},
     "output_type": "display_data"
    }
   ],
   "source": [
    "x, y  = load_data_line(npts=101)\n",
    "\n",
    "fig = plot_data_fancy(x, y)"
   ]
  },
  {
   "cell_type": "markdown",
   "metadata": {},
   "source": [
    "# 6. The Shape of The Data"
   ]
  },
  {
   "cell_type": "markdown",
   "metadata": {},
   "source": [
    "## 6.1 Histograms"
   ]
  },
  {
   "cell_type": "markdown",
   "metadata": {},
   "source": [
    "* feel intuitive\n",
    "* human has to manually chose bins (width and location)\n",
    "* \"The Binning Problem\" is unavoidable"
   ]
  },
  {
   "cell_type": "code",
   "execution_count": 52,
   "metadata": {},
   "outputs": [
    {
     "data": {
      "image/png": "[encoded data removed]",
      "text/plain": [
       "<matplotlib.figure.Figure at 0x11738d7f0>"
      ]
     },
     "metadata": {},
     "output_type": "display_data"
    }
   ],
   "source": [
    "x = load_data_norm(1000)\n",
    "line = plt.plot(x)"
   ]
  },
  {
   "cell_type": "code",
   "execution_count": 53,
   "metadata": {},
   "outputs": [
    {
     "data": {
      "image/png": "[encoded data removed]",
      "text/plain": [
       "<matplotlib.figure.Figure at 0x1172119e8>"
      ]
     },
     "metadata": {},
     "output_type": "display_data"
    }
   ],
   "source": [
    "bins = np.linspace(-4, +4, 51)\n",
    "count, bins, patches = plt.hist(x, bins, cumulative=False)"
   ]
  },
  {
   "cell_type": "code",
   "execution_count": 54,
   "metadata": {},
   "outputs": [
    {
     "data": {
      "image/png": "[encoded data removed]",
      "text/plain": [
       "<matplotlib.figure.Figure at 0x117b3b470>"
      ]
     },
     "metadata": {},
     "output_type": "display_data"
    }
   ],
   "source": [
    "bins = np.linspace(-4, +4, 51)\n",
    "plot_opts = dict(rwidth=0.8, color='black', alpha=0.25)\n",
    "\n",
    "fig, ax = plt.subplots(figsize=(8,4))\n",
    "count, bins, patches = ax.hist(x, bins, cumulative=False, **plot_opts)\n",
    "yl = ax.set_ylabel('Bin Counts')\n",
    "xl = ax.set_xlabel('X Value Bins')"
   ]
  },
  {
   "cell_type": "code",
   "execution_count": 55,
   "metadata": {},
   "outputs": [
    {
     "data": {
      "text/plain": [
       "1000.0"
      ]
     },
     "execution_count": 55,
     "metadata": {},
     "output_type": "execute_result"
    }
   ],
   "source": [
    "np.sum(count)"
   ]
  },
  {
   "cell_type": "code",
   "execution_count": 56,
   "metadata": {},
   "outputs": [
    {
     "data": {
      "image/png": "[encoded data removed]",
      "text/plain": [
       "<matplotlib.figure.Figure at 0x117cd6c50>"
      ]
     },
     "metadata": {},
     "output_type": "display_data"
    }
   ],
   "source": [
    "bins = np.linspace(-4, +4, 51)\n",
    "plot_opts = dict(rwidth=0.8, color='black', alpha=0.25)\n",
    "\n",
    "fig, ax = plt.subplots(figsize=(8,4))\n",
    "pdf, bins, patches = ax.hist(x, bins, normed=True, cumulative=False, **plot_opts)\n",
    "yl = ax.set_ylabel('PDF')\n",
    "xl = ax.set_xlabel('X Value Bins')"
   ]
  },
  {
   "cell_type": "code",
   "execution_count": 57,
   "metadata": {},
   "outputs": [
    {
     "data": {
      "text/plain": [
       "1.0000000000000009"
      ]
     },
     "execution_count": 57,
     "metadata": {},
     "output_type": "execute_result"
    }
   ],
   "source": [
    "delta_x = np.abs(bins[1] - bins[0])\n",
    "np.sum( pdf*delta_x )"
   ]
  },
  {
   "cell_type": "code",
   "execution_count": 58,
   "metadata": {},
   "outputs": [
    {
     "data": {
      "image/png": "[encoded data removed]",
      "text/plain": [
       "<matplotlib.figure.Figure at 0x117171828>"
      ]
     },
     "metadata": {},
     "output_type": "display_data"
    }
   ],
   "source": [
    "x = load_data_norm(1000)\n",
    "axis = sns.distplot(x)"
   ]
  },
  {
   "cell_type": "code",
   "execution_count": 59,
   "metadata": {},
   "outputs": [
    {
     "data": {
      "image/png": "[encoded data removed]",
      "text/plain": [
       "<matplotlib.figure.Figure at 0x117b62390>"
      ]
     },
     "metadata": {},
     "output_type": "display_data"
    }
   ],
   "source": [
    "x = load_data_norm(1000)\n",
    "fig, axis = plt.subplots(figsize=(8,4))\n",
    "hist_opts = dict(rwidth=0.8, alpha=0.25, color='black')\n",
    "kde_opts  = dict(alpha=0.25, color='red')\n",
    "axis = sns.distplot(x, kde=True, ax=axis, hist_kws=hist_opts, kde_kws=kde_opts)"
   ]
  },
  {
   "cell_type": "markdown",
   "metadata": {},
   "source": [
    "## 6.2 CDFs"
   ]
  },
  {
   "cell_type": "markdown",
   "metadata": {},
   "source": [
    "* Less intuitive than histograms (at first)\n",
    "* Bin definition is **optional**\n",
    "* Much more useful for data that is **NOT** gaussian (non-normal)"
   ]
  },
  {
   "cell_type": "code",
   "execution_count": 60,
   "metadata": {},
   "outputs": [
    {
     "data": {
      "image/png": "[encoded data removed]",
      "text/plain": [
       "<matplotlib.figure.Figure at 0x1181bbd30>"
      ]
     },
     "metadata": {},
     "output_type": "display_data"
    }
   ],
   "source": [
    "bins = np.linspace(-4, +4, 51)\n",
    "fig, axis = plt.subplots()\n",
    "count, bins, patches = axis.hist(x, bins, cumulative=True)"
   ]
  },
  {
   "cell_type": "code",
   "execution_count": 61,
   "metadata": {},
   "outputs": [
    {
     "data": {
      "image/png": "[encoded data removed]",
      "text/plain": [
       "<matplotlib.figure.Figure at 0x117fcdfd0>"
      ]
     },
     "metadata": {},
     "output_type": "display_data"
    }
   ],
   "source": [
    "x = load_data_norm(npts=1000)\n",
    "xs = np.sort(x)\n",
    "percentiles = np.linspace(0, 1, len(xs))\n",
    "line = plt.plot(xs, percentiles)"
   ]
  },
  {
   "cell_type": "markdown",
   "metadata": {},
   "source": [
    "Make it pretty..."
   ]
  },
  {
   "cell_type": "code",
   "execution_count": 62,
   "metadata": {},
   "outputs": [
    {
     "data": {
      "image/png": "[encoded data removed]",
      "text/plain": [
       "<matplotlib.figure.Figure at 0x118008e48>"
      ]
     },
     "metadata": {},
     "output_type": "display_data"
    }
   ],
   "source": [
    "x = load_data_norm(npts=1000)\n",
    "xs = np.sort(x)\n",
    "percentiles = np.linspace(0, 1, len(xs))\n",
    "\n",
    "fig, axis = plt.subplots(figsize=(8,4))\n",
    "axis.plot(xs, percentiles)\n",
    "\n",
    "axis.set_xlim([-2,2])\n",
    "axis.yaxis.set_major_locator(ticker.MultipleLocator(0.25))\n",
    "axis.grid(True)"
   ]
  },
  {
   "cell_type": "code",
   "execution_count": 63,
   "metadata": {},
   "outputs": [
    {
     "data": {
      "image/png": "[encoded data removed]",
      "text/plain": [
       "<matplotlib.figure.Figure at 0x117c72400>"
      ]
     },
     "metadata": {},
     "output_type": "display_data"
    }
   ],
   "source": [
    "x = load_data_norm(1000)\n",
    "axis = sns.distplot(x, kde=True, \n",
    "                    hist_kws=dict(cumulative=True), \n",
    "                    kde_kws=dict(cumulative=True))\n",
    "axis.set_xlim(x.min(), x.max());"
   ]
  },
  {
   "cell_type": "markdown",
   "metadata": {},
   "source": [
    "## 6.3 Center of the Distribution"
   ]
  },
  {
   "cell_type": "code",
   "execution_count": 64,
   "metadata": {},
   "outputs": [
    {
     "data": {
      "text/plain": [
       "-0.029090626844311743"
      ]
     },
     "execution_count": 64,
     "metadata": {},
     "output_type": "execute_result"
    }
   ],
   "source": [
    "np.mean(x)"
   ]
  },
  {
   "cell_type": "code",
   "execution_count": 65,
   "metadata": {},
   "outputs": [
    {
     "data": {
      "text/plain": [
       "-0.044742172917806647"
      ]
     },
     "execution_count": 65,
     "metadata": {},
     "output_type": "execute_result"
    }
   ],
   "source": [
    "np.median(x)"
   ]
  },
  {
   "cell_type": "code",
   "execution_count": 66,
   "metadata": {},
   "outputs": [
    {
     "data": {
      "image/png": "[encoded data removed]",
      "text/plain": [
       "<matplotlib.figure.Figure at 0x117864dd8>"
      ]
     },
     "metadata": {},
     "output_type": "display_data"
    }
   ],
   "source": [
    "bins = np.linspace(-4, +4, 51)\n",
    "plot_opts = dict(rwidth=0.8, color='black', alpha=0.25)\n",
    "\n",
    "fig, axis = plt.subplots(figsize=(12,4))\n",
    "count, bins, patches = axis.hist(x, bins, cumulative=False, **plot_opts)\n",
    "\n",
    "v5o = axis.axvline(np.median(x), color='red')"
   ]
  },
  {
   "cell_type": "code",
   "execution_count": 67,
   "metadata": {},
   "outputs": [
    {
     "data": {
      "image/png": "[encoded data removed]",
      "text/plain": [
       "<matplotlib.figure.Figure at 0x117167438>"
      ]
     },
     "metadata": {},
     "output_type": "display_data"
    }
   ],
   "source": [
    "xs = np.sort(x)\n",
    "percentiles = np.linspace(0, 1, len(xs))\n",
    "\n",
    "fig, axis = plt.subplots(figsize=(8,4))\n",
    "line = axis.plot(xs, percentiles)\n",
    "\n",
    "axis.yaxis.set_major_locator(ticker.MultipleLocator(0.25))\n",
    "\n",
    "hl = axis.axhline(.50, color='red')\n",
    "vl = axis.axvline(np.median(x), color='red')"
   ]
  },
  {
   "cell_type": "markdown",
   "metadata": {},
   "source": [
    "## 6.4 Spread of the Distribution"
   ]
  },
  {
   "cell_type": "markdown",
   "metadata": {},
   "source": [
    "* Range\n",
    "* IQR\n",
    "* Standard deviation"
   ]
  },
  {
   "cell_type": "code",
   "execution_count": 68,
   "metadata": {},
   "outputs": [
    {
     "name": "stdout",
     "output_type": "stream",
     "text": [
      "min = -2.900, max = 3.098, range = 5.998\n"
     ]
    }
   ],
   "source": [
    "xmin = x.min()\n",
    "xmax = x.max()\n",
    "xrng = xmax - xmin\n",
    "summary = 'min = {:0.3f}, max = {:0.3f}, range = {:0.3f}'.format(xmin, xmax, xrng)\n",
    "print(summary)"
   ]
  },
  {
   "cell_type": "code",
   "execution_count": 69,
   "metadata": {},
   "outputs": [
    {
     "name": "stdout",
     "output_type": "stream",
     "text": [
      "5th = -1.671, 95th = 1.654, confidence = 3.325\n"
     ]
    }
   ],
   "source": [
    "q05 = np.percentile(x, 5)\n",
    "q95 = np.percentile(x, 95)\n",
    "confidence = q95 - q05\n",
    "summary = '5th = {:0.3f}, 95th = {:0.3f}, confidence = {:0.3f}'.format(q05, q95, confidence)\n",
    "print(summary)"
   ]
  },
  {
   "cell_type": "markdown",
   "metadata": {},
   "source": [
    "## 6.5 Spread, Inter-Quartile Range (IQR)"
   ]
  },
  {
   "cell_type": "code",
   "execution_count": 70,
   "metadata": {},
   "outputs": [
    {
     "name": "stdout",
     "output_type": "stream",
     "text": [
      "25th = -0.681, 85th = 0.672, IQR = 1.354\n"
     ]
    }
   ],
   "source": [
    "q25 = np.percentile(x, 25)\n",
    "q75 = np.percentile(x, 75)\n",
    "IQR = q75 - q25\n",
    "summary = '25th = {:0.3f}, 85th = {:0.3f}, IQR = {:0.3f}'.format(q25, q75, IQR)\n",
    "print(summary)"
   ]
  },
  {
   "cell_type": "code",
   "execution_count": 71,
   "metadata": {},
   "outputs": [
    {
     "data": {
      "image/png": "[encoded data removed]",
      "text/plain": [
       "<matplotlib.figure.Figure at 0x117ba3cc0>"
      ]
     },
     "metadata": {},
     "output_type": "display_data"
    }
   ],
   "source": [
    "bins = np.linspace(-4, +4, 51)\n",
    "plot_opts = dict(rwidth=0.8, color='black', alpha=0.25)\n",
    "\n",
    "fig, axis = plt.subplots(figsize=(12,4))\n",
    "count, bins, patches = axis.hist(x, bins, cumulative=False, **plot_opts)\n",
    "\n",
    "v25 = axis.axvline(q25, color='green')\n",
    "v75 = axis.axvline(q75, color='green')\n",
    "ylim = [0, 80]\n",
    "axis.set_ylim(ylim)\n",
    "fill = axis.fill_betweenx(ylim, q25, q75, alpha=0.25, color='green')"
   ]
  },
  {
   "cell_type": "code",
   "execution_count": 72,
   "metadata": {},
   "outputs": [
    {
     "data": {
      "image/png": "[encoded data removed]",
      "text/plain": [
       "<matplotlib.figure.Figure at 0x117814eb8>"
      ]
     },
     "metadata": {},
     "output_type": "display_data"
    }
   ],
   "source": [
    "q25 = np.percentile(x, 25)\n",
    "q50 = np.percentile(x, 50)\n",
    "q75 = np.percentile(x, 75)\n",
    "\n",
    "xs = np.sort(x)\n",
    "percentiles = np.linspace(0, 100, len(xs))\n",
    "\n",
    "fig, axis = plt.subplots(figsize=(12,4))\n",
    "axis.plot(xs, percentiles)\n",
    "\n",
    "axis.yaxis.set_major_locator(ticker.MultipleLocator(25))\n",
    "axis.yaxis.set_minor_locator(ticker.MultipleLocator(5))\n",
    "\n",
    "h25 = axis.axhline(25, color='green')\n",
    "h75 = axis.axhline(75, color='green')\n",
    "v25 = axis.axvline(q25, color='green')\n",
    "v75 = axis.axvline(q75, color='green')\n",
    "axis.fill_betweenx([25,75], q25, q75, alpha=0.25, color='green')\n",
    "axis.set_ylim([0,100])\n",
    "axis.grid(True, which='major')"
   ]
  },
  {
   "cell_type": "markdown",
   "metadata": {},
   "source": [
    "## 6.6 Spread, Standard Devaition"
   ]
  },
  {
   "cell_type": "markdown",
   "metadata": {},
   "source": [
    "* this assumes a model for the data\n",
    "* if the data is not guassian, this won't always \"line up\""
   ]
  },
  {
   "cell_type": "code",
   "execution_count": 73,
   "metadata": {},
   "outputs": [
    {
     "name": "stdout",
     "output_type": "stream",
     "text": [
      "mean = -0.029, std = 1.018\n"
     ]
    }
   ],
   "source": [
    "x_mean = np.mean(x) \n",
    "x_std = np.std(x)\n",
    "\n",
    "summary = 'mean = {:0.3f}, std = {:0.3f}'.format(x_mean, x_std)\n",
    "print(summary)"
   ]
  },
  {
   "cell_type": "code",
   "execution_count": 74,
   "metadata": {},
   "outputs": [
    {
     "data": {
      "text/plain": [
       "(0, 100)"
      ]
     },
     "execution_count": 74,
     "metadata": {},
     "output_type": "execute_result"
    },
    {
     "data": {
      "image/png": "[encoded data removed]",
      "text/plain": [
       "<matplotlib.figure.Figure at 0x117ca31d0>"
      ]
     },
     "metadata": {},
     "output_type": "display_data"
    }
   ],
   "source": [
    "left   = x_mean - x_std\n",
    "center = x_mean\n",
    "right  = x_mean + x_std\n",
    "\n",
    "xs = np.sort(x)\n",
    "percentiles = np.linspace(0, 100, len(xs))\n",
    "\n",
    "fig, axis = plt.subplots(figsize=(12,4))\n",
    "axis.plot(xs, percentiles)\n",
    "\n",
    "pl = 50-34.1\n",
    "pc = 50\n",
    "pr = 50+34.1\n",
    "\n",
    "\n",
    "axis.yaxis.set_major_locator(ticker.MultipleLocator(25))\n",
    "axis.yaxis.set_minor_locator(ticker.MultipleLocator(5))\n",
    "\n",
    "hl = axis.axhline(pl, color='green')\n",
    "hc = axis.axhline(pc, color='red')\n",
    "hr = axis.axhline(pr, color='green')\n",
    "\n",
    "vl = axis.axvline(left, color='green')\n",
    "vc = axis.axvline(center, color='red')\n",
    "vr = axis.axvline(right, color='green')\n",
    "axis.fill_betweenx([pl, pr], left, right, alpha=0.25, color='green')\n",
    "axis.set_ylim([0,100])"
   ]
  },
  {
   "cell_type": "markdown",
   "metadata": {},
   "source": [
    "# 7. Summarizing the Distribution"
   ]
  },
  {
   "cell_type": "markdown",
   "metadata": {},
   "source": [
    "## 7.1 Box-and-Whisker Plots"
   ]
  },
  {
   "cell_type": "code",
   "execution_count": 75,
   "metadata": {},
   "outputs": [
    {
     "data": {
      "image/png": "[encoded data removed]",
      "text/plain": [
       "<matplotlib.figure.Figure at 0x117d18dd8>"
      ]
     },
     "metadata": {},
     "output_type": "display_data"
    }
   ],
   "source": [
    "x = load_data_norm(1000)\n",
    "\n",
    "box_dict = plt.boxplot(x)"
   ]
  },
  {
   "cell_type": "code",
   "execution_count": 76,
   "metadata": {},
   "outputs": [
    {
     "data": {
      "text/plain": [
       "{'boxes': [<matplotlib.lines.Line2D at 0x117fc7cf8>],\n",
       " 'caps': [<matplotlib.lines.Line2D at 0x117f25898>,\n",
       "  <matplotlib.lines.Line2D at 0x1181a51d0>],\n",
       " 'fliers': [<matplotlib.lines.Line2D at 0x117b58dd8>],\n",
       " 'means': [],\n",
       " 'medians': [<matplotlib.lines.Line2D at 0x1181a55f8>],\n",
       " 'whiskers': [<matplotlib.lines.Line2D at 0x117fc7a20>,\n",
       "  <matplotlib.lines.Line2D at 0x117f25908>]}"
      ]
     },
     "execution_count": 76,
     "metadata": {},
     "output_type": "execute_result"
    }
   ],
   "source": [
    "box_dict"
   ]
  },
  {
   "cell_type": "code",
   "execution_count": 77,
   "metadata": {},
   "outputs": [
    {
     "data": {
      "image/png": "[encoded data removed]",
      "text/plain": [
       "<matplotlib.figure.Figure at 0x117c60438>"
      ]
     },
     "metadata": {},
     "output_type": "display_data"
    }
   ],
   "source": [
    "data_list = []\n",
    "for n in range(4):\n",
    "    x = load_data_norm(1000)\n",
    "    data_list.append( x )\n",
    "\n",
    "fig, ax  = plt.subplots()\n",
    "box_dict = ax.boxplot(data_list)\n",
    "xlabels  = ax.set_xticklabels(['Sample1', 'Sample2', 'Sample3', 'Sample4'])\n",
    "ylabel   = ax.set_ylabel('X Values')"
   ]
  },
  {
   "cell_type": "markdown",
   "metadata": {},
   "source": [
    "## 7.2 Kernel Density Estimation"
   ]
  },
  {
   "cell_type": "markdown",
   "metadata": {},
   "source": [
    "* If you do NOT want a parametric model of a distribution of data...\n",
    "* The shape of the distribution can be estimated without assumptions about a general form"
   ]
  },
  {
   "cell_type": "code",
   "execution_count": 78,
   "metadata": {},
   "outputs": [
    {
     "data": {
      "image/png": "[encoded data removed]",
      "text/plain": [
       "<matplotlib.figure.Figure at 0x1180243c8>"
      ]
     },
     "metadata": {},
     "output_type": "display_data"
    }
   ],
   "source": [
    "x = load_data_norm(100)\n",
    "axis = sns.distplot(x, kde=True, rug=True)"
   ]
  },
  {
   "cell_type": "markdown",
   "metadata": {},
   "source": [
    "## 7.3 Violin Plots (combined: boxplot + kde)"
   ]
  },
  {
   "cell_type": "markdown",
   "metadata": {},
   "source": [
    "* boxplot summarizes quantiles\n",
    "* kernel density estimation, non-parametric"
   ]
  },
  {
   "cell_type": "code",
   "execution_count": 79,
   "metadata": {},
   "outputs": [
    {
     "data": {
      "image/png": "[encoded data removed]",
      "text/plain": [
       "<matplotlib.figure.Figure at 0x1186810b8>"
      ]
     },
     "metadata": {},
     "output_type": "display_data"
    }
   ],
   "source": [
    "x = load_data_norm(1000)\n",
    "fig, axis = plt.subplots(figsize=(8,4))\n",
    "axis = sns.violinplot(x, ax=axis)"
   ]
  },
  {
   "cell_type": "code",
   "execution_count": 80,
   "metadata": {},
   "outputs": [
    {
     "data": {
      "image/png": "[encoded data removed]",
      "text/plain": [
       "<matplotlib.figure.Figure at 0x1186fdcf8>"
      ]
     },
     "metadata": {},
     "output_type": "display_data"
    }
   ],
   "source": [
    "import seaborn as sns\n",
    "sns.set_style(\"whitegrid\")\n",
    "tips = sns.load_dataset(\"tips\")\n",
    "ax = sns.violinplot(x=\"time\", y=\"tip\", data=tips,\n",
    "                     order=[\"Dinner\", \"Lunch\"])"
   ]
  },
  {
   "cell_type": "markdown",
   "metadata": {},
   "source": [
    "# 8. Modeling Data"
   ]
  },
  {
   "cell_type": "markdown",
   "metadata": {},
   "source": [
    "## 8.1 Transition from Descriptive to Inferential"
   ]
  },
  {
   "cell_type": "markdown",
   "metadata": {},
   "source": [
    "* we almost never have \"all the data\"\n",
    "* we have a subset, a \"sample\" of the total data, the \"population\"\n",
    "* \"Inference\" is just asking \"what can the sample tell us about the population\"?\n",
    "* This can be seen as a modeling problem: select the sample as a model for the population, and then bootstrap resample to estimate the (center and spread of the) distribution of a population parameter."
   ]
  },
  {
   "cell_type": "markdown",
   "metadata": {},
   "source": [
    "## 8.2 Modeling the Distribution (single variable)"
   ]
  },
  {
   "cell_type": "markdown",
   "metadata": {},
   "source": [
    "Steps in modeling:\n",
    "1. Pick a general model (with unknown parameters) that you like (people often pick a gaussian, but doesn't have to be)\n",
    "2. Find the optimal parameters to plug in that make a specific model that best fits the data\n",
    "3. Determine the uncertainty or variation in the parameter value, e.g. by repeating 1 & 2 for another measurement of the data"
   ]
  },
  {
   "cell_type": "code",
   "execution_count": 81,
   "metadata": {
    "collapsed": true
   },
   "outputs": [],
   "source": [
    "# get data\n",
    "x = load_data_norm(1000)"
   ]
  },
  {
   "cell_type": "markdown",
   "metadata": {},
   "source": [
    "## 8.3 Example: Find the best parameters (mu, sigma) to use in a parametric model"
   ]
  },
  {
   "cell_type": "code",
   "execution_count": 82,
   "metadata": {
    "collapsed": true
   },
   "outputs": [],
   "source": [
    "# use an optimization method to find the model parameters that best fit the data\n",
    "from scipy.stats import norm\n",
    "(mu, sigma) = norm.fit(x)\n",
    "\n",
    "# predict values for the model using these paramters\n",
    "bins = np.linspace(-4, +4, 51)\n",
    "model = norm.pdf(bins, mu, sigma)"
   ]
  },
  {
   "cell_type": "code",
   "execution_count": 83,
   "metadata": {},
   "outputs": [
    {
     "data": {
      "image/png": "[encoded data removed]",
      "text/plain": [
       "<matplotlib.figure.Figure at 0x118753358>"
      ]
     },
     "metadata": {},
     "output_type": "display_data"
    }
   ],
   "source": [
    "# Plot the model and the data together\n",
    "fig, axis = plt.subplots(figsize=(8,4))\n",
    "data_opts = dict(rwidth=0.8, color='black', alpha=0.25)\n",
    "model_opts = dict(linewidth=4, color='red', alpha=0.5, linestyle='-', )\n",
    "\n",
    "count, bins, patches = axis.hist(x, bins, normed=True, cumulative=False, label='data', **data_opts)\n",
    "line = axis.plot(bins, model, label='model', **model_opts)\n",
    "axis.legend()\n",
    "title = axis.set_title('Guassian model, mu = {:0.3f}, sigma = {:0.3f}'.format(mu, sigma))"
   ]
  },
  {
   "cell_type": "code",
   "execution_count": 84,
   "metadata": {},
   "outputs": [
    {
     "data": {
      "image/png": "[encoded data removed]",
      "text/plain": [
       "<matplotlib.figure.Figure at 0x118024ef0>"
      ]
     },
     "metadata": {},
     "output_type": "display_data"
    }
   ],
   "source": [
    "from scipy.stats import norm\n",
    "import seaborn as sns\n",
    "\n",
    "x = load_data_norm(1000)\n",
    "ax = sns.distplot(x, fit=norm, kde=False)"
   ]
  },
  {
   "cell_type": "markdown",
   "metadata": {},
   "source": [
    "# 9. Models and Parameter Estimation"
   ]
  },
  {
   "cell_type": "markdown",
   "metadata": {},
   "source": [
    "* The goal is to \"estimate\" parameters of a model that fits the data\n",
    "* Part of that is asking what is the \"optimal\" value of the parameter (center)\n",
    "* Part of that is asking how uncertain is the parameter estimate (spread)"
   ]
  },
  {
   "cell_type": "markdown",
   "metadata": {},
   "source": [
    "## 9.1 Method of Moments"
   ]
  },
  {
   "cell_type": "markdown",
   "metadata": {},
   "source": [
    "* You've probably already done this before and maybe didn't realize it.\n",
    "* \"The moments of the sample and equal to the moments of the model\" (usually mean and standard deviation)\n",
    "* Find the model parameters so that the sample moments match the model moments.\n",
    "    * e.g. For a gaussian distribution, the moments are the same as the model parameters:\n",
    "        * `mean = param1, std=param2`\n",
    "    * e.g. For a gamma distribution, the moments are **NOT** the same as the parameters:\n",
    "        * `mean = param1*param2`, `var = param1*(param2**2)`\n",
    "* first moment = compute the mean of the sample and assume that is equal to the population parameter mu\n",
    "* second moment = compute the standard deviation of the sample and assume that is equal to the population parameter sigma"
   ]
  },
  {
   "cell_type": "code",
   "execution_count": 85,
   "metadata": {
    "collapsed": true
   },
   "outputs": [],
   "source": [
    "x = load_data_norm(100)\n",
    "mu = np.mean(x)\n",
    "sigma = np.std(x)"
   ]
  },
  {
   "cell_type": "code",
   "execution_count": 86,
   "metadata": {},
   "outputs": [
    {
     "data": {
      "image/png": "[encoded data removed]",
      "text/plain": [
       "<matplotlib.figure.Figure at 0x118f660f0>"
      ]
     },
     "metadata": {},
     "output_type": "display_data"
    }
   ],
   "source": [
    "bins = np.linspace(-4, +4, 51)\n",
    "model = norm.pdf(bins, mu, sigma)\n",
    "\n",
    "fig, axis = plt.subplots(figsize=(8,4))\n",
    "data_opts = dict(rwidth=0.8, color='black', alpha=0.25)\n",
    "model_opts = dict(linewidth=4, color='red', alpha=0.5, linestyle='-', )\n",
    "\n",
    "count, bins, patches = axis.hist(x, bins, normed=True, cumulative=False, label='data', **data_opts)\n",
    "line = axis.plot(bins, model, label='model', **model_opts)\n",
    "axis.legend()\n",
    "title = axis.set_title('Guassian model, mu = {:0.3f}, sigma = {:0.3f}'.format(mu, sigma))"
   ]
  },
  {
   "cell_type": "markdown",
   "metadata": {},
   "source": [
    "## 9.2 Method of Maximum Likelihood"
   ]
  },
  {
   "cell_type": "markdown",
   "metadata": {},
   "source": [
    "* Easy to do computationally, hard or impossible to do analytically\n",
    "* Pick a parameterized distribution (e.g. guassian, gamma, poisson, whatever)\n",
    "* guess at a range of values for the model parameters\n",
    "* For each value in the range, take many samples, compute the likelihood for each sample\n",
    "* \"Given these data, how likely is this model with this parameter value?\"\n",
    "* Likelihood(param): compute product of model(param, sample) over all samples\n",
    "* alternate: LogLikelihood(param): compute sum of log(model(param, sample)) over all samples\n",
    "* Repeat for all param values\n",
    "* Pick the param that reulted in the maximum likelihood"
   ]
  },
  {
   "cell_type": "markdown",
   "metadata": {},
   "source": [
    "# 10. Parameter Variation and \"Uncertainty of the Estimate\""
   ]
  },
  {
   "cell_type": "markdown",
   "metadata": {},
   "source": [
    "## 10.1 Sampling"
   ]
  },
  {
   "cell_type": "markdown",
   "metadata": {},
   "source": [
    "* Population (noun) = all the data, the \"underlying\" data, nature\n",
    "* Sample (noun) = a datum or a small portion taken from the population, a data set collected during a measurement\n",
    "* Sample (verb) = take act of taking a sample from the population at random\n",
    "* Statistic (noun) = a summary value computed from a sample or sample distribution (e.g. mean, std, slope) often used as an approximation of a parameter in a model for the population distribution."
   ]
  },
  {
   "cell_type": "markdown",
   "metadata": {},
   "source": [
    "## 10.2 Resampling"
   ]
  },
  {
   "cell_type": "markdown",
   "metadata": {},
   "source": [
    "* Resample (verb) = sample again and again\n",
    "* Resample with Replacement = sample again and again, but \"replace\" or \"put back\" the thing you took out so that it might be drawn again on future draws.\n",
    "* Bootstrap Resampling = assume the sample is a model for the population and resample with replacement from the sample to generate many samples.\n",
    "* Resampling with Shuffling = computational method to test hull hypothesis"
   ]
  },
  {
   "cell_type": "markdown",
   "metadata": {},
   "source": [
    "## 10.3 Sample Distribution"
   ]
  },
  {
   "cell_type": "code",
   "execution_count": 87,
   "metadata": {},
   "outputs": [
    {
     "data": {
      "image/png": "[encoded data removed]",
      "text/plain": [
       "<matplotlib.figure.Figure at 0x1190d6f60>"
      ]
     },
     "metadata": {},
     "output_type": "display_data"
    }
   ],
   "source": [
    "population = load_data_norm(1000)\n",
    "bins = np.linspace(-4, +4, 51)\n",
    "\n",
    "fig, axis = plt.subplots(figsize=(8,4))\n",
    "opts_pop = dict(rwidth=0.8, color='green', alpha=0.25)\n",
    "count, bins, patches = axis.hist(population, bins, normed=True, cumulative=False, label='data', **opts_pop)"
   ]
  },
  {
   "cell_type": "code",
   "execution_count": 88,
   "metadata": {
    "collapsed": true
   },
   "outputs": [],
   "source": [
    "sample1 = np.random.choice(population, 100)"
   ]
  },
  {
   "cell_type": "code",
   "execution_count": 89,
   "metadata": {},
   "outputs": [
    {
     "data": {
      "image/png": "[encoded data removed]",
      "text/plain": [
       "<matplotlib.figure.Figure at 0x1187caba8>"
      ]
     },
     "metadata": {},
     "output_type": "display_data"
    }
   ],
   "source": [
    "bins = np.linspace(-4, +4, 51)\n",
    "\n",
    "fig, axis = plt.subplots(figsize=(8,4))\n",
    "opts_pop = dict(rwidth=0.8, color='green', alpha=0.25)\n",
    "opts_s1  = dict(rwidth=0.8, color='red', alpha=0.25)\n",
    "count, bins, patches = axis.hist(population, bins, normed=True, cumulative=False, label='data', **opts_pop)\n",
    "count, bins, patches = axis.hist(sample1, bins, normed=True, cumulative=False, label='data', **opts_s1)"
   ]
  },
  {
   "cell_type": "markdown",
   "metadata": {},
   "source": [
    "## 10.4 Sampling Variance"
   ]
  },
  {
   "cell_type": "markdown",
   "metadata": {},
   "source": [
    "Because you are RANDOMLY drawing, each sample will differ from another, due to random chance. So any satistics computed from a sample will vary from sample to sample."
   ]
  },
  {
   "cell_type": "code",
   "execution_count": 90,
   "metadata": {
    "collapsed": true
   },
   "outputs": [],
   "source": [
    "sample2 = np.random.choice(population, 100)"
   ]
  },
  {
   "cell_type": "code",
   "execution_count": 91,
   "metadata": {},
   "outputs": [
    {
     "data": {
      "image/png": "[encoded data removed]",
      "text/plain": [
       "<matplotlib.figure.Figure at 0x1187baa58>"
      ]
     },
     "metadata": {},
     "output_type": "display_data"
    }
   ],
   "source": [
    "bins = np.linspace(-4, +4, 51)\n",
    "\n",
    "fig, axis = plt.subplots(figsize=(8,4))\n",
    "opts_s1 = dict(rwidth=0.8, color='red', alpha=0.25)\n",
    "opts_s2  = dict(rwidth=0.8, color='blue', alpha=0.25)\n",
    "count, bins, patches = axis.hist(sample1, bins, normed=True, cumulative=False, label='data', **opts_s1)\n",
    "count, bins, patches = axis.hist(sample2, bins, normed=True, cumulative=False, label='data', **opts_s2)"
   ]
  },
  {
   "cell_type": "code",
   "execution_count": 92,
   "metadata": {},
   "outputs": [
    {
     "name": "stdout",
     "output_type": "stream",
     "text": [
      "mean1 = 0.054, std1 = 0.919\n",
      "mean2 = 0.006, std2 = 0.937\n"
     ]
    }
   ],
   "source": [
    "mean1 = np.mean(sample1)\n",
    "std1  = np.std(sample1)\n",
    "mean2 = np.mean(sample2)\n",
    "std2  = np.std(sample2)\n",
    "print(\"mean1 = {:0.3f}, std1 = {:0.3f}\".format(mean1, std1))\n",
    "print(\"mean2 = {:0.3f}, std2 = {:0.3f}\".format(mean2, std2))"
   ]
  },
  {
   "cell_type": "code",
   "execution_count": 93,
   "metadata": {},
   "outputs": [
    {
     "data": {
      "image/png": "[encoded data removed]",
      "text/plain": [
       "<matplotlib.figure.Figure at 0x118c949b0>"
      ]
     },
     "metadata": {},
     "output_type": "display_data"
    }
   ],
   "source": [
    "from scipy.stats import norm\n",
    "\n",
    "# predict values for the model using these paramters\n",
    "bins = np.linspace(-4, +4, 51)\n",
    "model1 = norm.pdf(bins, mean1, std1)\n",
    "model2 = norm.pdf(bins, mean2, std2)\n",
    "\n",
    "fig, axis = plt.subplots(figsize=(8,4))\n",
    "opts_model1 = dict(linewidth=2, color='red', alpha=0.5)\n",
    "opts_model2 = dict(linewidth=2, color='blue', alpha=0.5)\n",
    "\n",
    "label1 = 'mean1={:0.3f}, std1={:0.3f}'.format(mean1, std1)\n",
    "label2 = 'mean2={:0.3f}, std2={:0.3f}'.format(mean2, std2)\n",
    "\n",
    "line1 = axis.plot(bins, model1, label=label1, **opts_model1)\n",
    "line2 = axis.plot(bins, model2, label=label2, **opts_model2)\n",
    "vl1 = axis.axvline(mean1, **opts_model1)\n",
    "vl2 = axis.axvline(mean2, **opts_model2)\n",
    "leg = axis.legend(loc=1)"
   ]
  },
  {
   "cell_type": "markdown",
   "metadata": {},
   "source": [
    "## 10.5 Resampling from the Population"
   ]
  },
  {
   "cell_type": "code",
   "execution_count": 94,
   "metadata": {},
   "outputs": [
    {
     "data": {
      "image/png": "[encoded data removed]",
      "text/plain": [
       "<matplotlib.figure.Figure at 0x118181898>"
      ]
     },
     "metadata": {},
     "output_type": "display_data"
    }
   ],
   "source": [
    "population = load_data_norm(1000)\n",
    "bins = np.linspace(-4, +4, 51)\n",
    "\n",
    "fig, axis = plt.subplots(figsize=(8,4))\n",
    "opts_pop = dict(rwidth=0.8, color='green', alpha=0.25)\n",
    "count, bins, patches = axis.hist(population, bins, normed=True, cumulative=False, label='data', **opts_pop)"
   ]
  },
  {
   "cell_type": "code",
   "execution_count": 95,
   "metadata": {},
   "outputs": [
    {
     "name": "stdout",
     "output_type": "stream",
     "text": [
      "pmean mean = 0.032, pmean std = 0.100\n",
      "pstd mean = 0.992, pstd std = 0.073\n"
     ]
    }
   ],
   "source": [
    "sample_means = np.zeros(1000)\n",
    "sample_stds = np.zeros(1000)\n",
    "for n in range(1000):\n",
    "    sample = np.random.choice(population, 100)\n",
    "    sample_means[n] = np.mean(sample)\n",
    "    sample_stds[n] = np.std(sample)\n",
    "\n",
    "mean_mean = np.mean(sample_means)\n",
    "mean_std = np.std(sample_means)\n",
    "std_mean = np.mean(sample_stds)\n",
    "std_std = np.std(sample_stds)\n",
    "print('pmean mean = {:0.3f}, pmean std = {:0.3f}'.format(mean_mean, mean_std))\n",
    "print('pstd mean = {:0.3f}, pstd std = {:0.3f}'.format(std_mean, std_std))"
   ]
  },
  {
   "cell_type": "code",
   "execution_count": 96,
   "metadata": {},
   "outputs": [
    {
     "data": {
      "image/png": "[encoded data removed]",
      "text/plain": [
       "<matplotlib.figure.Figure at 0x117f6ba58>"
      ]
     },
     "metadata": {},
     "output_type": "display_data"
    }
   ],
   "source": [
    "bins = np.linspace(-0.3, +0.3, 51)\n",
    "fig, axis = plt.subplots(figsize=(8,4))\n",
    "opts_pop = dict(rwidth=0.8, color='black', alpha=0.25)\n",
    "count, bins, patches = axis.hist(sample_means, bins, normed=True, cumulative=False, label='sample means', **opts_pop)\n",
    "leg = axis.legend()"
   ]
  },
  {
   "cell_type": "markdown",
   "metadata": {},
   "source": [
    "## 10.6 Spread of the Estimate"
   ]
  },
  {
   "cell_type": "markdown",
   "metadata": {},
   "source": [
    "* Confidence Interval = the width of the 90th percentile of the parameter resample distribution\n",
    "* Standard Error = the standard deviation of the parameter resample distribution"
   ]
  },
  {
   "cell_type": "code",
   "execution_count": 97,
   "metadata": {},
   "outputs": [
    {
     "data": {
      "image/png": "[encoded data removed]",
      "text/plain": [
       "<matplotlib.figure.Figure at 0x119172b00>"
      ]
     },
     "metadata": {},
     "output_type": "display_data"
    }
   ],
   "source": [
    "bins = np.linspace(1-0.3, 1+0.3, 51)\n",
    "fig, axis = plt.subplots(figsize=(8,4))\n",
    "opts_pop = dict(rwidth=0.8, color='black', alpha=0.25)\n",
    "count, bins, patches = axis.hist(sample_stds, bins, normed=True, cumulative=False, label='sample stds', **opts_pop)\n",
    "leg = axis.legend()"
   ]
  },
  {
   "cell_type": "code",
   "execution_count": 98,
   "metadata": {},
   "outputs": [
    {
     "data": {
      "image/png": "[encoded data removed]",
      "text/plain": [
       "<matplotlib.figure.Figure at 0x118e05668>"
      ]
     },
     "metadata": {},
     "output_type": "display_data"
    }
   ],
   "source": [
    "bins = np.linspace(-1, +1, 51)\n",
    "\n",
    "fig, axis = plt.subplots(figsize=(8,4))\n",
    "opts_pop = dict(rwidth=0.8, color='black', alpha=0.25)\n",
    "count, bins, patches = axis.hist(sample_means, bins, normed=True, cumulative=False, label='sample means', **opts_pop)\n",
    "leg = axis.legend()"
   ]
  },
  {
   "cell_type": "markdown",
   "metadata": {},
   "source": [
    "# 11. Modeling 2-variable Data"
   ]
  },
  {
   "cell_type": "markdown",
   "metadata": {},
   "source": [
    "* at first glance, just another optimization problem\n",
    "* at closer inspection, it's parameter estimation again!\n",
    "* this time, there are 3 parameters:\n",
    "    * y = a0 + a1*x + e, parameters intercept=a0, slope=a1, spread=var(e)\n",
    "    * intercept\n",
    "    * slope\n",
    "    * variance of underlying randomness"
   ]
  },
  {
   "cell_type": "code",
   "execution_count": 99,
   "metadata": {},
   "outputs": [
    {
     "data": {
      "image/png": "[encoded data removed]",
      "text/plain": [
       "<matplotlib.figure.Figure at 0x118dda6d8>"
      ]
     },
     "metadata": {},
     "output_type": "display_data"
    }
   ],
   "source": [
    "x, y = load_data_line(npts=50)\n",
    "data_opts = dict(color='black', linestyle=' ', marker='o')\n",
    "line = plt.plot(x, y, **data_opts)"
   ]
  },
  {
   "cell_type": "code",
   "execution_count": 100,
   "metadata": {
    "collapsed": true
   },
   "outputs": [],
   "source": [
    "def model_predict(x, a0, a1):\n",
    "    return a0 + a1*x"
   ]
  },
  {
   "cell_type": "markdown",
   "metadata": {},
   "source": [
    "## 11.1 Tune the parameter values to make the model fit the data..."
   ]
  },
  {
   "cell_type": "code",
   "execution_count": 101,
   "metadata": {
    "collapsed": true
   },
   "outputs": [],
   "source": [
    "xd, yd = load_data_line(npts=50)\n",
    "xm = xd"
   ]
  },
  {
   "cell_type": "code",
   "execution_count": 102,
   "metadata": {},
   "outputs": [
    {
     "data": {
      "image/png": "[encoded data removed]",
      "text/plain": [
       "<matplotlib.figure.Figure at 0x1187bae48>"
      ]
     },
     "metadata": {},
     "output_type": "display_data"
    }
   ],
   "source": [
    "ym = model_predict(xm, a0=0.3, a1=0.9)\n",
    "\n",
    "fig, axis = plt.subplots()\n",
    "data_opts = dict(color='black', linestyle=' ', marker='o')\n",
    "model_opts = dict(color='red', linestyle='-', linewidth=4)\n",
    "\n",
    "ld = axis.plot(xd, yd, **data_opts)\n",
    "lm = axis.plot(xm, ym, **model_opts)"
   ]
  },
  {
   "cell_type": "markdown",
   "metadata": {},
   "source": [
    "## 11.2 Linear Regression as Optimization"
   ]
  },
  {
   "cell_type": "code",
   "execution_count": 103,
   "metadata": {
    "collapsed": true
   },
   "outputs": [],
   "source": [
    "from scipy import optimize"
   ]
  },
  {
   "cell_type": "code",
   "execution_count": 104,
   "metadata": {
    "collapsed": true
   },
   "outputs": [],
   "source": [
    "def sum_sqrs(theta, x, y):\n",
    "    model = theta[0] + theta[1]*x\n",
    "    data = y\n",
    "    residuals = model - data\n",
    "    rss = np.sum( residuals**2 )\n",
    "    return rss"
   ]
  },
  {
   "cell_type": "code",
   "execution_count": 105,
   "metadata": {},
   "outputs": [
    {
     "name": "stdout",
     "output_type": "stream",
     "text": [
      "34.9225964518\n"
     ]
    }
   ],
   "source": [
    "x, y  = load_data_line()\n",
    "theta = [0, 1]\n",
    "rss = sum_sqrs(theta, x, y)\n",
    "print(rss)"
   ]
  },
  {
   "cell_type": "code",
   "execution_count": 106,
   "metadata": {},
   "outputs": [
    {
     "name": "stdout",
     "output_type": "stream",
     "text": [
      "Optimization terminated successfully.\n",
      "         Current function value: 28.545638\n",
      "         Iterations: 36\n",
      "         Function evaluations: 70\n",
      "0.025042275433 1.01070230882\n"
     ]
    }
   ],
   "source": [
    "x, y  = load_data_line()\n",
    "theta_guess = [0,1]\n",
    "a0, a1 = optimize.fmin(sum_sqrs, theta_guess, args=(x,y))\n",
    "print(a0, a1)"
   ]
  },
  {
   "cell_type": "code",
   "execution_count": 107,
   "metadata": {},
   "outputs": [
    {
     "name": "stdout",
     "output_type": "stream",
     "text": [
      "28.5456381462\n"
     ]
    }
   ],
   "source": [
    "theta = [a0, a1]\n",
    "rss = sum_sqrs(theta, x, y)\n",
    "print(rss)"
   ]
  },
  {
   "cell_type": "code",
   "execution_count": 108,
   "metadata": {
    "collapsed": true
   },
   "outputs": [],
   "source": [
    "def model_fit(x,y, cost_function=sum_sqrs):\n",
    "    theta_guess = [0,1]\n",
    "    a0, a1 = optimize.fmin(cost_function, theta_guess, args=(x,y))\n",
    "    return a0, a1"
   ]
  },
  {
   "cell_type": "code",
   "execution_count": 109,
   "metadata": {},
   "outputs": [
    {
     "name": "stdout",
     "output_type": "stream",
     "text": [
      "Optimization terminated successfully.\n",
      "         Current function value: 26.047050\n",
      "         Iterations: 41\n",
      "         Function evaluations: 77\n",
      "-0.0513221759177 1.00928950881\n"
     ]
    }
   ],
   "source": [
    "x, y = load_data_line()\n",
    "a0, a1 = model_fit(x, y)\n",
    "print(a0, a1)"
   ]
  },
  {
   "cell_type": "code",
   "execution_count": 110,
   "metadata": {
    "collapsed": true
   },
   "outputs": [],
   "source": [
    "def model_predict(x, a0, a1):\n",
    "    return a0 + (a1*x)"
   ]
  },
  {
   "cell_type": "code",
   "execution_count": 111,
   "metadata": {},
   "outputs": [
    {
     "data": {
      "image/png": "[encoded data removed]",
      "text/plain": [
       "<matplotlib.figure.Figure at 0x118704240>"
      ]
     },
     "metadata": {},
     "output_type": "display_data"
    }
   ],
   "source": [
    "line_dots = plt.plot(x,y, linestyle=\" \", marker=\"o\", color=\"black\")\n",
    "line_red  = plt.plot(x, model_predict(x,a0,a1), color=\"red\", linewidth=4)"
   ]
  },
  {
   "cell_type": "code",
   "execution_count": 112,
   "metadata": {
    "collapsed": true
   },
   "outputs": [],
   "source": [
    "def plot_data_and_fit(xd, yd):\n",
    "    a0, a1 = model_fit(xd, yd)\n",
    "    rss = sum_sqrs([a0, a1], xd, yd)\n",
    "    fig, ax = plt.subplots()\n",
    "    ax.plot(x, y, linestyle=\" \", marker=\"o\", color=\"black\")\n",
    "    ax.plot(x, model_predict(x,a0,a1), color=\"red\", linewidth=4)\n",
    "    title_text=\"a0={:0.2f}, a1={:0.2f}: RSS = {:0.2f}\".format(a0, a1, rss)\n",
    "    fig.axes[0].set_title(title_text)\n",
    "    return fig, rss"
   ]
  },
  {
   "cell_type": "code",
   "execution_count": 113,
   "metadata": {},
   "outputs": [
    {
     "name": "stdout",
     "output_type": "stream",
     "text": [
      "Optimization terminated successfully.\n",
      "         Current function value: 30.769160\n",
      "         Iterations: 46\n",
      "         Function evaluations: 86\n"
     ]
    },
    {
     "data": {
      "image/png": "[encoded data removed]",
      "text/plain": [
       "<matplotlib.figure.Figure at 0x117f3eb00>"
      ]
     },
     "metadata": {},
     "output_type": "display_data"
    }
   ],
   "source": [
    "x, y = load_data_line()\n",
    "fig = plot_data_and_fit(x, y)"
   ]
  },
  {
   "cell_type": "markdown",
   "metadata": {},
   "source": [
    "## 11.3 Linear Regression, Analytic Solution"
   ]
  },
  {
   "cell_type": "markdown",
   "metadata": {},
   "source": [
    "* these is an exact analytic solution to the optimization problem for least-squares\n",
    "* using RSS as the cost function is equaivalent to finding the maximum likelihood estimator\n",
    "* we can implement the analytic solution in numpy"
   ]
  },
  {
   "cell_type": "code",
   "execution_count": 114,
   "metadata": {
    "collapsed": true
   },
   "outputs": [],
   "source": [
    "def load_data(num_pts=101, a0=-4, a1=2, mu=0, sigma=1):\n",
    "    x = np.linspace(0,10,num_pts)\n",
    "    e = np.array([np.random.normal(mu,sigma) for n in range(num_pts)])\n",
    "    y = a0 + (a1*x) + e\n",
    "    return x,y"
   ]
  },
  {
   "cell_type": "code",
   "execution_count": 115,
   "metadata": {},
   "outputs": [
    {
     "data": {
      "image/png": "[encoded data removed]",
      "text/plain": [
       "<matplotlib.figure.Figure at 0x117ba3b38>"
      ]
     },
     "metadata": {},
     "output_type": "display_data"
    }
   ],
   "source": [
    "x, y = load_data()\n",
    "\n",
    "fig, axis = plt.subplots()\n",
    "opts_data  = dict(label='data', color='black', linestyle=\" \", marker=\"o\")\n",
    "line = axis.plot(x, y, **opts_data)\n",
    "leg = axis.legend()"
   ]
  },
  {
   "cell_type": "code",
   "execution_count": 116,
   "metadata": {
    "collapsed": true
   },
   "outputs": [],
   "source": [
    "def model_predict(x, a0, a1):\n",
    "    return a1*x + a0"
   ]
  },
  {
   "cell_type": "code",
   "execution_count": 117,
   "metadata": {
    "collapsed": true
   },
   "outputs": [],
   "source": [
    "def model_fit(x, y):\n",
    "    X_bar = np.sum(x)/len(x)\n",
    "    Y_bar = np.sum(y)/len(y)\n",
    "    a1 = np.sum( (x - X_bar)*(y - Y_bar) )/np.sum( (x - X_bar)**2 )\n",
    "    a0 = Y_bar - (a1*X_bar)\n",
    "    return a1, a0"
   ]
  },
  {
   "cell_type": "code",
   "execution_count": 118,
   "metadata": {
    "collapsed": true
   },
   "outputs": [],
   "source": [
    "def plot_model_and_data(xd, yd, xm, ym):\n",
    "    fig, axis = plt.subplots()\n",
    "    opts_data  = dict(label='data', color='black', linestyle=\" \", marker=\"o\")\n",
    "    opts_model = dict(label='model', color='red', linestyle=\"-\")\n",
    "    ld = axis.plot(xd, yd, **opts_data)\n",
    "    lm = axis.plot(xd, ym, **opts_model)\n",
    "    leg = axis.legend()\n",
    "    return fig"
   ]
  },
  {
   "cell_type": "code",
   "execution_count": 119,
   "metadata": {},
   "outputs": [
    {
     "data": {
      "image/png": "[encoded data removed]",
      "text/plain": [
       "<matplotlib.figure.Figure at 0x118c86400>"
      ]
     },
     "metadata": {},
     "output_type": "display_data"
    }
   ],
   "source": [
    "xd, yd = load_data()\n",
    "\n",
    "a1, a0 = model_fit(xd, yd)\n",
    "xm = xd\n",
    "ym = model_predict(xm, a0, a1)\n",
    "\n",
    "fig = plot_model_and_data(xd, yd, xm, ym)\n"
   ]
  },
  {
   "cell_type": "markdown",
   "metadata": {},
   "source": [
    "## 11.4 Resampling to Visualize Uncertainty in Parameter Estimates"
   ]
  },
  {
   "cell_type": "code",
   "execution_count": 120,
   "metadata": {},
   "outputs": [
    {
     "name": "stdout",
     "output_type": "stream",
     "text": [
      "a1 mean = 1.992, a1 std = 0.118\n",
      "a0 mean = -3.910, a0 std = 0.687\n"
     ]
    }
   ],
   "source": [
    "def model_fit(x, y):\n",
    "    X_bar = np.sum(x)/len(x)\n",
    "    Y_bar = np.sum(y)/len(y)\n",
    "    a1 = np.sum( (x - X_bar)*(y - Y_bar) )/np.sum( (x - X_bar)**2 )\n",
    "    a0 = Y_bar - (a1*X_bar)\n",
    "    return a1, a0\n",
    "\n",
    "size_population = 1000\n",
    "size_sample = 10\n",
    "num_samples = 100\n",
    "\n",
    "xp, yp = load_data(size_population)\n",
    "ip = list(range(size_population))\n",
    "\n",
    "a1_bs = np.zeros(num_samples)\n",
    "a0_bs = np.zeros(num_samples)\n",
    "for n in range(num_samples):\n",
    "    isample = np.random.choice(ip, size_sample, replace=True)\n",
    "    xs = np.take(xp, isample, axis=0)\n",
    "    ys = np.take(yp, isample, axis=0)\n",
    "    a1s, a0s = model_fit(xs, ys)\n",
    "    a1_bs[n] = a1s\n",
    "    a0_bs[n] = a0s\n",
    "\n",
    "a1_mean = np.mean(a1_bs)\n",
    "a1_std  = np.std(a1_bs)\n",
    "a0_mean = np.mean(a0_bs)\n",
    "a0_std  = np.std(a0_bs)\n",
    "\n",
    "\n",
    "print('a1 mean = {:0.3f}, a1 std = {:0.3f}'.format(a1_mean, a1_std))\n",
    "print('a0 mean = {:0.3f}, a0 std = {:0.3f}'.format(a0_mean, a0_std))"
   ]
  },
  {
   "cell_type": "code",
   "execution_count": 121,
   "metadata": {},
   "outputs": [
    {
     "data": {
      "text/plain": [
       "(1.7222758334457471, 2.2528531446830433)"
      ]
     },
     "execution_count": 121,
     "metadata": {},
     "output_type": "execute_result"
    }
   ],
   "source": [
    "a1_bs.min(), a1_bs.max()"
   ]
  },
  {
   "cell_type": "code",
   "execution_count": 122,
   "metadata": {},
   "outputs": [
    {
     "data": {
      "image/png": "[encoded data removed]",
      "text/plain": [
       "<matplotlib.figure.Figure at 0x117ba6470>"
      ]
     },
     "metadata": {},
     "output_type": "display_data"
    }
   ],
   "source": [
    "bins = np.linspace(a1_bs.min(), a1_bs.max(), 21)\n",
    "fig, axis = plt.subplots(figsize=(8,4))\n",
    "opts_pop = dict(rwidth=0.8, color='black', alpha=0.5)\n",
    "count, bins, patches = axis.hist(a1_bs, bins, normed=True, cumulative=False, label='a1_bs', **opts_pop)\n",
    "leg = axis.legend()"
   ]
  },
  {
   "cell_type": "code",
   "execution_count": 123,
   "metadata": {},
   "outputs": [
    {
     "data": {
      "image/png": "[encoded data removed]",
      "text/plain": [
       "<matplotlib.figure.Figure at 0x11875c7f0>"
      ]
     },
     "metadata": {},
     "output_type": "display_data"
    }
   ],
   "source": [
    "bins = np.linspace(a0_bs.min(), a0_bs.max(), 21)\n",
    "fig, axis = plt.subplots(figsize=(8,4))\n",
    "opts_pop = dict(rwidth=0.8, color='black', alpha=0.5)\n",
    "count, bins, patches = axis.hist(a0_bs, bins, normed=True, cumulative=False, label='a0_bs', **opts_pop)\n",
    "leg = axis.legend()"
   ]
  },
  {
   "cell_type": "code",
   "execution_count": 124,
   "metadata": {},
   "outputs": [
    {
     "data": {
      "image/png": "[encoded data removed]",
      "text/plain": [
       "<matplotlib.figure.Figure at 0x117f3e3c8>"
      ]
     },
     "metadata": {},
     "output_type": "display_data"
    }
   ],
   "source": [
    "fig, axes  = plt.subplots(ncols=2)\n",
    "box_dict = axes[0].boxplot(a0_bs)\n",
    "ylabel   = axes[0].set_ylabel('Intercept')\n",
    "box_dict = axes[1].boxplot(a1_bs)\n",
    "ylabel   = axes[1].set_ylabel('Slope')\n",
    "fig.tight_layout()"
   ]
  },
  {
   "cell_type": "code",
   "execution_count": 125,
   "metadata": {},
   "outputs": [
    {
     "data": {
      "image/png": "[encoded data removed]",
      "text/plain": [
       "<matplotlib.figure.Figure at 0x11922f7b8>"
      ]
     },
     "metadata": {},
     "output_type": "display_data"
    }
   ],
   "source": [
    "fig, axis = plt.subplots()\n",
    "opts = dict(linestyle=\" \", marker=\"o\", alpha=0.005, color='black')\n",
    "xd, yd = load_data(100)\n",
    "for n in range(len(a1_bs)):\n",
    "    axis.plot(xd, model_predict(xd, a0_bs[n], a1_bs[n]), **opts)"
   ]
  },
  {
   "cell_type": "markdown",
   "metadata": {},
   "source": [
    "# 12. Linear  Regression in Practice"
   ]
  },
  {
   "cell_type": "markdown",
   "metadata": {},
   "source": [
    "## 12.1 Linear Regression with scipy.optimize"
   ]
  },
  {
   "cell_type": "code",
   "execution_count": 126,
   "metadata": {
    "collapsed": true
   },
   "outputs": [],
   "source": [
    "from scipy import stats"
   ]
  },
  {
   "cell_type": "code",
   "execution_count": 127,
   "metadata": {
    "collapsed": true
   },
   "outputs": [],
   "source": [
    "def model_predict(x, a0, a1):\n",
    "    return a1*x + a0\n",
    "\n",
    "def model_fit(x, y, model=model_predict):\n",
    "    param_opt, param_cov = optimize.curve_fit(model, x, y)\n",
    "    a0 = param_opt[0]\n",
    "    a1 = param_opt[1]\n",
    "    std_err = numpy.sqrt(numpy.diag(param_cov))\n",
    "    e0 = std_err[0]\n",
    "    e1 = std_err[1]\n",
    "    return a0, a1, e0, e1"
   ]
  },
  {
   "cell_type": "code",
   "execution_count": 128,
   "metadata": {},
   "outputs": [
    {
     "data": {
      "image/png": "[encoded data removed]",
      "text/plain": [
       "<matplotlib.figure.Figure at 0x1193cd278>"
      ]
     },
     "metadata": {},
     "output_type": "display_data"
    }
   ],
   "source": [
    "xd, yd = load_data()\n",
    "\n",
    "a0, a1, e0, e1 = model_fit(xd, yd, model_predict)\n",
    "\n",
    "xm = xd\n",
    "ym = model_predict(xd, a0, a1)\n",
    "\n",
    "fig = plot_model_and_data(xd, yd, xm, ym)"
   ]
  },
  {
   "cell_type": "markdown",
   "metadata": {},
   "source": [
    "## 12.2 Linear Regression with statsmodels"
   ]
  },
  {
   "cell_type": "code",
   "execution_count": 129,
   "metadata": {},
   "outputs": [
    {
     "name": "stderr",
     "output_type": "stream",
     "text": [
      "/Users/vestuto/anaconda/envs/jlab/lib/python3.6/site-packages/statsmodels/compat/pandas.py:56: FutureWarning: The pandas.core.datetools module is deprecated and will be removed in a future version. Please use the pandas.tseries module instead.\n",
      "  from pandas.core import datetools\n"
     ]
    }
   ],
   "source": [
    "import statsmodels.api as sm\n",
    "\n",
    "def model_fit(x, y):\n",
    "    X_const   = sm.add_constant(x)\n",
    "    model     = sm.OLS(y, X_const)\n",
    "    model_fit = model.fit()\n",
    "    a0        = model_fit.params[0]\n",
    "    a1        = model_fit.params[1]\n",
    "    return a0, a1, model_fit"
   ]
  },
  {
   "cell_type": "code",
   "execution_count": 130,
   "metadata": {},
   "outputs": [
    {
     "data": {
      "image/png": "[encoded data removed]",
      "text/plain": [
       "<matplotlib.figure.Figure at 0x1193cd5f8>"
      ]
     },
     "metadata": {},
     "output_type": "display_data"
    }
   ],
   "source": [
    "xd, yd = load_data()\n",
    "\n",
    "a0, a1, mf = model_fit(xd, yd)\n",
    "\n",
    "xm = xd\n",
    "ym = model_predict(xm, a0, a1)\n",
    "\n",
    "fig = plot_model_and_data(xd, yd, xm, ym)"
   ]
  },
  {
   "cell_type": "code",
   "execution_count": 131,
   "metadata": {},
   "outputs": [
    {
     "data": {
      "text/html": [
       "<table class=\"simpletable\">\n",
       "<caption>OLS Regression Results</caption>\n",
       "<tr>\n",
       "  <th>Dep. Variable:</th>            <td>y</td>        <th>  R-squared:         </th> <td>   0.971</td>\n",
       "</tr>\n",
       "<tr>\n",
       "  <th>Model:</th>                   <td>OLS</td>       <th>  Adj. R-squared:    </th> <td>   0.971</td>\n",
       "</tr>\n",
       "<tr>\n",
       "  <th>Method:</th>             <td>Least Squares</td>  <th>  F-statistic:       </th> <td>   3353.</td>\n",
       "</tr>\n",
       "<tr>\n",
       "  <th>Date:</th>             <td>Tue, 27 Mar 2018</td> <th>  Prob (F-statistic):</th> <td>3.64e-78</td>\n",
       "</tr>\n",
       "<tr>\n",
       "  <th>Time:</th>                 <td>18:21:41</td>     <th>  Log-Likelihood:    </th> <td> -144.72</td>\n",
       "</tr>\n",
       "<tr>\n",
       "  <th>No. Observations:</th>      <td>   101</td>      <th>  AIC:               </th> <td>   293.4</td>\n",
       "</tr>\n",
       "<tr>\n",
       "  <th>Df Residuals:</th>          <td>    99</td>      <th>  BIC:               </th> <td>   298.7</td>\n",
       "</tr>\n",
       "<tr>\n",
       "  <th>Df Model:</th>              <td>     1</td>      <th>                     </th>     <td> </td>   \n",
       "</tr>\n",
       "<tr>\n",
       "  <th>Covariance Type:</th>      <td>nonrobust</td>    <th>                     </th>     <td> </td>   \n",
       "</tr>\n",
       "</table>\n",
       "<table class=\"simpletable\">\n",
       "<tr>\n",
       "    <td></td>       <th>coef</th>     <th>std err</th>      <th>t</th>      <th>P>|t|</th>  <th>[0.025</th>    <th>0.975]</th>  \n",
       "</tr>\n",
       "<tr>\n",
       "  <th>const</th> <td>   -4.1605</td> <td>    0.202</td> <td>  -20.564</td> <td> 0.000</td> <td>   -4.562</td> <td>   -3.759</td>\n",
       "</tr>\n",
       "<tr>\n",
       "  <th>x1</th>    <td>    2.0240</td> <td>    0.035</td> <td>   57.902</td> <td> 0.000</td> <td>    1.955</td> <td>    2.093</td>\n",
       "</tr>\n",
       "</table>\n",
       "<table class=\"simpletable\">\n",
       "<tr>\n",
       "  <th>Omnibus:</th>       <td> 1.310</td> <th>  Durbin-Watson:     </th> <td>   2.141</td>\n",
       "</tr>\n",
       "<tr>\n",
       "  <th>Prob(Omnibus):</th> <td> 0.519</td> <th>  Jarque-Bera (JB):  </th> <td>   1.368</td>\n",
       "</tr>\n",
       "<tr>\n",
       "  <th>Skew:</th>          <td>-0.215</td> <th>  Prob(JB):          </th> <td>   0.504</td>\n",
       "</tr>\n",
       "<tr>\n",
       "  <th>Kurtosis:</th>      <td> 2.625</td> <th>  Cond. No.          </th> <td>    11.7</td>\n",
       "</tr>\n",
       "</table>"
      ],
      "text/plain": [
       "<class 'statsmodels.iolib.summary.Summary'>\n",
       "\"\"\"\n",
       "                            OLS Regression Results                            \n",
       "==============================================================================\n",
       "Dep. Variable:                      y   R-squared:                       0.971\n",
       "Model:                            OLS   Adj. R-squared:                  0.971\n",
       "Method:                 Least Squares   F-statistic:                     3353.\n",
       "Date:                Tue, 27 Mar 2018   Prob (F-statistic):           3.64e-78\n",
       "Time:                        18:21:41   Log-Likelihood:                -144.72\n",
       "No. Observations:                 101   AIC:                             293.4\n",
       "Df Residuals:                      99   BIC:                             298.7\n",
       "Df Model:                           1                                         \n",
       "Covariance Type:            nonrobust                                         \n",
       "==============================================================================\n",
       "                 coef    std err          t      P>|t|      [0.025      0.975]\n",
       "------------------------------------------------------------------------------\n",
       "const         -4.1605      0.202    -20.564      0.000      -4.562      -3.759\n",
       "x1             2.0240      0.035     57.902      0.000       1.955       2.093\n",
       "==============================================================================\n",
       "Omnibus:                        1.310   Durbin-Watson:                   2.141\n",
       "Prob(Omnibus):                  0.519   Jarque-Bera (JB):                1.368\n",
       "Skew:                          -0.215   Prob(JB):                        0.504\n",
       "Kurtosis:                       2.625   Cond. No.                         11.7\n",
       "==============================================================================\n",
       "\n",
       "Warnings:\n",
       "[1] Standard Errors assume that the covariance matrix of the errors is correctly specified.\n",
       "\"\"\""
      ]
     },
     "execution_count": 131,
     "metadata": {},
     "output_type": "execute_result"
    }
   ],
   "source": [
    "mf.summary()"
   ]
  },
  {
   "cell_type": "markdown",
   "metadata": {},
   "source": [
    "## 12.3 Linear Regression with statsmodels and pandas"
   ]
  },
  {
   "cell_type": "code",
   "execution_count": 132,
   "metadata": {
    "collapsed": true
   },
   "outputs": [],
   "source": [
    "import statsmodels.formula.api as smf\n",
    "import pandas"
   ]
  },
  {
   "cell_type": "code",
   "execution_count": 133,
   "metadata": {},
   "outputs": [
    {
     "data": {
      "image/png": "[encoded data removed]",
      "text/plain": [
       "<matplotlib.figure.Figure at 0x117fc07f0>"
      ]
     },
     "metadata": {},
     "output_type": "display_data"
    }
   ],
   "source": [
    "xd, yd = load_data()\n",
    "df = pandas.DataFrame(dict(x=xd, y=yd))\n",
    "xm = xd\n",
    "\n",
    "model = smf.ols(formula=\"y ~ x\", data=df).fit()\n",
    "ym = model.predict(df)\n",
    "\n",
    "fig = plot_model_and_data(xd, yd, xm, ym)"
   ]
  },
  {
   "cell_type": "code",
   "execution_count": 134,
   "metadata": {},
   "outputs": [
    {
     "data": {
      "text/html": [
       "<table class=\"simpletable\">\n",
       "<caption>OLS Regression Results</caption>\n",
       "<tr>\n",
       "  <th>Dep. Variable:</th>            <td>y</td>        <th>  R-squared:         </th> <td>   0.966</td>\n",
       "</tr>\n",
       "<tr>\n",
       "  <th>Model:</th>                   <td>OLS</td>       <th>  Adj. R-squared:    </th> <td>   0.966</td>\n",
       "</tr>\n",
       "<tr>\n",
       "  <th>Method:</th>             <td>Least Squares</td>  <th>  F-statistic:       </th> <td>   2822.</td>\n",
       "</tr>\n",
       "<tr>\n",
       "  <th>Date:</th>             <td>Tue, 27 Mar 2018</td> <th>  Prob (F-statistic):</th> <td>1.41e-74</td>\n",
       "</tr>\n",
       "<tr>\n",
       "  <th>Time:</th>                 <td>18:21:42</td>     <th>  Log-Likelihood:    </th> <td> -150.42</td>\n",
       "</tr>\n",
       "<tr>\n",
       "  <th>No. Observations:</th>      <td>   101</td>      <th>  AIC:               </th> <td>   304.8</td>\n",
       "</tr>\n",
       "<tr>\n",
       "  <th>Df Residuals:</th>          <td>    99</td>      <th>  BIC:               </th> <td>   310.1</td>\n",
       "</tr>\n",
       "<tr>\n",
       "  <th>Df Model:</th>              <td>     1</td>      <th>                     </th>     <td> </td>   \n",
       "</tr>\n",
       "<tr>\n",
       "  <th>Covariance Type:</th>      <td>nonrobust</td>    <th>                     </th>     <td> </td>   \n",
       "</tr>\n",
       "</table>\n",
       "<table class=\"simpletable\">\n",
       "<tr>\n",
       "      <td></td>         <th>coef</th>     <th>std err</th>      <th>t</th>      <th>P>|t|</th>  <th>[0.025</th>    <th>0.975]</th>  \n",
       "</tr>\n",
       "<tr>\n",
       "  <th>Intercept</th> <td>   -3.8390</td> <td>    0.214</td> <td>  -17.934</td> <td> 0.000</td> <td>   -4.264</td> <td>   -3.414</td>\n",
       "</tr>\n",
       "<tr>\n",
       "  <th>x</th>         <td>    1.9647</td> <td>    0.037</td> <td>   53.122</td> <td> 0.000</td> <td>    1.891</td> <td>    2.038</td>\n",
       "</tr>\n",
       "</table>\n",
       "<table class=\"simpletable\">\n",
       "<tr>\n",
       "  <th>Omnibus:</th>       <td> 0.036</td> <th>  Durbin-Watson:     </th> <td>   1.939</td>\n",
       "</tr>\n",
       "<tr>\n",
       "  <th>Prob(Omnibus):</th> <td> 0.982</td> <th>  Jarque-Bera (JB):  </th> <td>   0.042</td>\n",
       "</tr>\n",
       "<tr>\n",
       "  <th>Skew:</th>          <td> 0.030</td> <th>  Prob(JB):          </th> <td>   0.979</td>\n",
       "</tr>\n",
       "<tr>\n",
       "  <th>Kurtosis:</th>      <td> 2.920</td> <th>  Cond. No.          </th> <td>    11.7</td>\n",
       "</tr>\n",
       "</table>"
      ],
      "text/plain": [
       "<class 'statsmodels.iolib.summary.Summary'>\n",
       "\"\"\"\n",
       "                            OLS Regression Results                            \n",
       "==============================================================================\n",
       "Dep. Variable:                      y   R-squared:                       0.966\n",
       "Model:                            OLS   Adj. R-squared:                  0.966\n",
       "Method:                 Least Squares   F-statistic:                     2822.\n",
       "Date:                Tue, 27 Mar 2018   Prob (F-statistic):           1.41e-74\n",
       "Time:                        18:21:42   Log-Likelihood:                -150.42\n",
       "No. Observations:                 101   AIC:                             304.8\n",
       "Df Residuals:                      99   BIC:                             310.1\n",
       "Df Model:                           1                                         \n",
       "Covariance Type:            nonrobust                                         \n",
       "==============================================================================\n",
       "                 coef    std err          t      P>|t|      [0.025      0.975]\n",
       "------------------------------------------------------------------------------\n",
       "Intercept     -3.8390      0.214    -17.934      0.000      -4.264      -3.414\n",
       "x              1.9647      0.037     53.122      0.000       1.891       2.038\n",
       "==============================================================================\n",
       "Omnibus:                        0.036   Durbin-Watson:                   1.939\n",
       "Prob(Omnibus):                  0.982   Jarque-Bera (JB):                0.042\n",
       "Skew:                           0.030   Prob(JB):                        0.979\n",
       "Kurtosis:                       2.920   Cond. No.                         11.7\n",
       "==============================================================================\n",
       "\n",
       "Warnings:\n",
       "[1] Standard Errors assume that the covariance matrix of the errors is correctly specified.\n",
       "\"\"\""
      ]
     },
     "execution_count": 134,
     "metadata": {},
     "output_type": "execute_result"
    }
   ],
   "source": [
    "model.summary()"
   ]
  },
  {
   "cell_type": "markdown",
   "metadata": {},
   "source": [
    "## 12.4 Linear Regression with scikit-learn"
   ]
  },
  {
   "cell_type": "code",
   "execution_count": 135,
   "metadata": {
    "collapsed": true
   },
   "outputs": [],
   "source": [
    "from sklearn.linear_model import LinearRegression"
   ]
  },
  {
   "cell_type": "code",
   "execution_count": 136,
   "metadata": {},
   "outputs": [
    {
     "data": {
      "image/png": "[encoded data removed]",
      "text/plain": [
       "<matplotlib.figure.Figure at 0x11a696a58>"
      ]
     },
     "metadata": {},
     "output_type": "display_data"
    }
   ],
   "source": [
    "xd, yd = load_data()\n",
    "df = pandas.DataFrame(dict(x=xd, y=yd))\n",
    "xm = xd\n",
    "xdf = df.x.values.reshape(len(df.y),1)\n",
    "ydf = df.y.values.reshape(len(df.y),1)\n",
    "\n",
    "model = LinearRegression(fit_intercept=True)\n",
    "model.fit(xdf, ydf)\n",
    "a1 = model.coef_[0][0]\n",
    "a0 = model.intercept_[0]\n",
    "\n",
    "ym = model.predict(xdf)\n",
    "\n",
    "fig = plot_model_and_data(xd, yd, xm, ym)"
   ]
  },
  {
   "cell_type": "code",
   "execution_count": 137,
   "metadata": {},
   "outputs": [
    {
     "name": "stdout",
     "output_type": "stream",
     "text": [
      "a0 = -4.104, a1 = 2.039\n"
     ]
    }
   ],
   "source": [
    "print('a0 = {:0.3f}, a1 = {:0.3f}'.format(a0, a1))"
   ]
  },
  {
   "cell_type": "markdown",
   "metadata": {},
   "source": [
    "# 13. The End"
   ]
  }
 ],
 "metadata": {
  "kernelspec": {
   "display_name": "Python 3",
   "language": "python",
   "name": "python3"
  },
  "language_info": {
   "codemirror_mode": {
    "name": "ipython",
    "version": 3
   },
   "file_extension": ".py",
   "mimetype": "text/x-python",
   "name": "python",
   "nbconvert_exporter": "python",
   "pygments_lexer": "ipython3",
   "version": "3.6.2"
  }
 },
 "nbformat": 4,
 "nbformat_minor": 2
}
